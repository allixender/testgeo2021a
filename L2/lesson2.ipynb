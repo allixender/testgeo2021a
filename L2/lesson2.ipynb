{
 "cells": [
  {
   "cell_type": "markdown",
   "metadata": {},
   "source": [
    "# Lesson2: Introduction to Geopandas\n",
    "\n",
    "- https://kodu.ut.ee/~kmoch/geopython2021/L2/geopandas-basics.html"
   ]
  },
  {
   "cell_type": "code",
   "execution_count": 1,
   "metadata": {},
   "outputs": [],
   "source": [
    "import geopandas as gpd\n",
    "\n",
    "fp = \"DAMSELFISH_distributions.shp\"\n",
    "\n",
    "data = gpd.read_file(fp)"
   ]
  },
  {
   "cell_type": "code",
   "execution_count": 2,
   "metadata": {},
   "outputs": [
    {
     "data": {
      "text/plain": [
       "geopandas.geodataframe.GeoDataFrame"
      ]
     },
     "execution_count": 2,
     "metadata": {},
     "output_type": "execute_result"
    }
   ],
   "source": [
    "type(data)"
   ]
  },
  {
   "cell_type": "code",
   "execution_count": 3,
   "metadata": {},
   "outputs": [
    {
     "data": {
      "text/html": [
       "<div>\n",
       "<style scoped>\n",
       "    .dataframe tbody tr th:only-of-type {\n",
       "        vertical-align: middle;\n",
       "    }\n",
       "\n",
       "    .dataframe tbody tr th {\n",
       "        vertical-align: top;\n",
       "    }\n",
       "\n",
       "    .dataframe thead th {\n",
       "        text-align: right;\n",
       "    }\n",
       "</style>\n",
       "<table border=\"1\" class=\"dataframe\">\n",
       "  <thead>\n",
       "    <tr style=\"text-align: right;\">\n",
       "      <th></th>\n",
       "      <th>ID_NO</th>\n",
       "      <th>BINOMIAL</th>\n",
       "      <th>ORIGIN</th>\n",
       "      <th>COMPILER</th>\n",
       "      <th>YEAR</th>\n",
       "      <th>CITATION</th>\n",
       "      <th>SOURCE</th>\n",
       "      <th>DIST_COMM</th>\n",
       "      <th>ISLAND</th>\n",
       "      <th>SUBSPECIES</th>\n",
       "      <th>...</th>\n",
       "      <th>RL_UPDATE</th>\n",
       "      <th>KINGDOM_NA</th>\n",
       "      <th>PHYLUM_NAM</th>\n",
       "      <th>CLASS_NAME</th>\n",
       "      <th>ORDER_NAME</th>\n",
       "      <th>FAMILY_NAM</th>\n",
       "      <th>GENUS_NAME</th>\n",
       "      <th>SPECIES_NA</th>\n",
       "      <th>CATEGORY</th>\n",
       "      <th>geometry</th>\n",
       "    </tr>\n",
       "  </thead>\n",
       "  <tbody>\n",
       "    <tr>\n",
       "      <th>0</th>\n",
       "      <td>183963.0</td>\n",
       "      <td>Stegastes leucorus</td>\n",
       "      <td>1</td>\n",
       "      <td>IUCN</td>\n",
       "      <td>2010</td>\n",
       "      <td>International Union for Conservation of Nature...</td>\n",
       "      <td>None</td>\n",
       "      <td>None</td>\n",
       "      <td>None</td>\n",
       "      <td>None</td>\n",
       "      <td>...</td>\n",
       "      <td>2012.1</td>\n",
       "      <td>ANIMALIA</td>\n",
       "      <td>CHORDATA</td>\n",
       "      <td>ACTINOPTERYGII</td>\n",
       "      <td>PERCIFORMES</td>\n",
       "      <td>POMACENTRIDAE</td>\n",
       "      <td>Stegastes</td>\n",
       "      <td>leucorus</td>\n",
       "      <td>VU</td>\n",
       "      <td>POLYGON ((-115.64375 29.71392, -115.61585 29.6...</td>\n",
       "    </tr>\n",
       "    <tr>\n",
       "      <th>1</th>\n",
       "      <td>183963.0</td>\n",
       "      <td>Stegastes leucorus</td>\n",
       "      <td>1</td>\n",
       "      <td>IUCN</td>\n",
       "      <td>2010</td>\n",
       "      <td>International Union for Conservation of Nature...</td>\n",
       "      <td>None</td>\n",
       "      <td>None</td>\n",
       "      <td>None</td>\n",
       "      <td>None</td>\n",
       "      <td>...</td>\n",
       "      <td>2012.1</td>\n",
       "      <td>ANIMALIA</td>\n",
       "      <td>CHORDATA</td>\n",
       "      <td>ACTINOPTERYGII</td>\n",
       "      <td>PERCIFORMES</td>\n",
       "      <td>POMACENTRIDAE</td>\n",
       "      <td>Stegastes</td>\n",
       "      <td>leucorus</td>\n",
       "      <td>VU</td>\n",
       "      <td>POLYGON ((-105.58995 21.89340, -105.56483 21.8...</td>\n",
       "    </tr>\n",
       "    <tr>\n",
       "      <th>2</th>\n",
       "      <td>183963.0</td>\n",
       "      <td>Stegastes leucorus</td>\n",
       "      <td>1</td>\n",
       "      <td>IUCN</td>\n",
       "      <td>2010</td>\n",
       "      <td>International Union for Conservation of Nature...</td>\n",
       "      <td>None</td>\n",
       "      <td>None</td>\n",
       "      <td>None</td>\n",
       "      <td>None</td>\n",
       "      <td>...</td>\n",
       "      <td>2012.1</td>\n",
       "      <td>ANIMALIA</td>\n",
       "      <td>CHORDATA</td>\n",
       "      <td>ACTINOPTERYGII</td>\n",
       "      <td>PERCIFORMES</td>\n",
       "      <td>POMACENTRIDAE</td>\n",
       "      <td>Stegastes</td>\n",
       "      <td>leucorus</td>\n",
       "      <td>VU</td>\n",
       "      <td>POLYGON ((-111.15962 19.01536, -111.15948 18.9...</td>\n",
       "    </tr>\n",
       "    <tr>\n",
       "      <th>3</th>\n",
       "      <td>183793.0</td>\n",
       "      <td>Chromis intercrusma</td>\n",
       "      <td>1</td>\n",
       "      <td>IUCN</td>\n",
       "      <td>2010</td>\n",
       "      <td>International Union for Conservation of Nature...</td>\n",
       "      <td>None</td>\n",
       "      <td>None</td>\n",
       "      <td>None</td>\n",
       "      <td>None</td>\n",
       "      <td>...</td>\n",
       "      <td>2012.1</td>\n",
       "      <td>ANIMALIA</td>\n",
       "      <td>CHORDATA</td>\n",
       "      <td>ACTINOPTERYGII</td>\n",
       "      <td>PERCIFORMES</td>\n",
       "      <td>POMACENTRIDAE</td>\n",
       "      <td>Chromis</td>\n",
       "      <td>intercrusma</td>\n",
       "      <td>LC</td>\n",
       "      <td>POLYGON ((-80.86500 -0.77894, -80.75930 -0.833...</td>\n",
       "    </tr>\n",
       "    <tr>\n",
       "      <th>4</th>\n",
       "      <td>183793.0</td>\n",
       "      <td>Chromis intercrusma</td>\n",
       "      <td>1</td>\n",
       "      <td>IUCN</td>\n",
       "      <td>2010</td>\n",
       "      <td>International Union for Conservation of Nature...</td>\n",
       "      <td>None</td>\n",
       "      <td>None</td>\n",
       "      <td>None</td>\n",
       "      <td>None</td>\n",
       "      <td>...</td>\n",
       "      <td>2012.1</td>\n",
       "      <td>ANIMALIA</td>\n",
       "      <td>CHORDATA</td>\n",
       "      <td>ACTINOPTERYGII</td>\n",
       "      <td>PERCIFORMES</td>\n",
       "      <td>POMACENTRIDAE</td>\n",
       "      <td>Chromis</td>\n",
       "      <td>intercrusma</td>\n",
       "      <td>LC</td>\n",
       "      <td>POLYGON ((-67.33922 -55.67610, -67.33755 -55.6...</td>\n",
       "    </tr>\n",
       "  </tbody>\n",
       "</table>\n",
       "<p>5 rows × 24 columns</p>\n",
       "</div>"
      ],
      "text/plain": [
       "      ID_NO             BINOMIAL  ORIGIN COMPILER  YEAR  \\\n",
       "0  183963.0   Stegastes leucorus       1     IUCN  2010   \n",
       "1  183963.0   Stegastes leucorus       1     IUCN  2010   \n",
       "2  183963.0   Stegastes leucorus       1     IUCN  2010   \n",
       "3  183793.0  Chromis intercrusma       1     IUCN  2010   \n",
       "4  183793.0  Chromis intercrusma       1     IUCN  2010   \n",
       "\n",
       "                                            CITATION SOURCE DIST_COMM ISLAND  \\\n",
       "0  International Union for Conservation of Nature...   None      None   None   \n",
       "1  International Union for Conservation of Nature...   None      None   None   \n",
       "2  International Union for Conservation of Nature...   None      None   None   \n",
       "3  International Union for Conservation of Nature...   None      None   None   \n",
       "4  International Union for Conservation of Nature...   None      None   None   \n",
       "\n",
       "  SUBSPECIES  ... RL_UPDATE KINGDOM_NA  PHYLUM_NAM      CLASS_NAME  \\\n",
       "0       None  ...    2012.1   ANIMALIA    CHORDATA  ACTINOPTERYGII   \n",
       "1       None  ...    2012.1   ANIMALIA    CHORDATA  ACTINOPTERYGII   \n",
       "2       None  ...    2012.1   ANIMALIA    CHORDATA  ACTINOPTERYGII   \n",
       "3       None  ...    2012.1   ANIMALIA    CHORDATA  ACTINOPTERYGII   \n",
       "4       None  ...    2012.1   ANIMALIA    CHORDATA  ACTINOPTERYGII   \n",
       "\n",
       "    ORDER_NAME     FAMILY_NAM GENUS_NAME   SPECIES_NA CATEGORY  \\\n",
       "0  PERCIFORMES  POMACENTRIDAE  Stegastes     leucorus       VU   \n",
       "1  PERCIFORMES  POMACENTRIDAE  Stegastes     leucorus       VU   \n",
       "2  PERCIFORMES  POMACENTRIDAE  Stegastes     leucorus       VU   \n",
       "3  PERCIFORMES  POMACENTRIDAE    Chromis  intercrusma       LC   \n",
       "4  PERCIFORMES  POMACENTRIDAE    Chromis  intercrusma       LC   \n",
       "\n",
       "                                            geometry  \n",
       "0  POLYGON ((-115.64375 29.71392, -115.61585 29.6...  \n",
       "1  POLYGON ((-105.58995 21.89340, -105.56483 21.8...  \n",
       "2  POLYGON ((-111.15962 19.01536, -111.15948 18.9...  \n",
       "3  POLYGON ((-80.86500 -0.77894, -80.75930 -0.833...  \n",
       "4  POLYGON ((-67.33922 -55.67610, -67.33755 -55.6...  \n",
       "\n",
       "[5 rows x 24 columns]"
      ]
     },
     "execution_count": 3,
     "metadata": {},
     "output_type": "execute_result"
    }
   ],
   "source": [
    "data.head()"
   ]
  },
  {
   "cell_type": "code",
   "execution_count": 4,
   "metadata": {},
   "outputs": [
    {
     "data": {
      "text/plain": [
       "<AxesSubplot:>"
      ]
     },
     "execution_count": 4,
     "metadata": {},
     "output_type": "execute_result"
    },
    {
     "data": {
      "image/png": "[encoded data removed]",
      "text/plain": [
       "<Figure size 432x288 with 1 Axes>"
      ]
     },
     "metadata": {
      "needs_background": "light"
     },
     "output_type": "display_data"
    }
   ],
   "source": [
    "# import matplotlib and make it show plots directly (inline) in Jupyter notebooks\n",
    "import matplotlib.pyplot as plt\n",
    "%matplotlib inline\n",
    "\n",
    "data.plot()"
   ]
  },
  {
   "cell_type": "code",
   "execution_count": 5,
   "metadata": {},
   "outputs": [],
   "source": [
    "# Create a output path for the data\n",
    "out_file_path = \"DAMSELFISH_distributions_SELECTION.shp\"\n",
    "\n",
    "# Select first 50 rows, this a the numpy/pandas syntax to ``slice`` parts out a dataframe or array, from position 0 until (excluding) 50\n",
    "selection = data[0:50]\n",
    "\n",
    "# Write those rows into a new Shapefile (the default output file format is Shapefile)\n",
    "selection.to_file(out_file_path)"
   ]
  },
  {
   "cell_type": "code",
   "execution_count": 6,
   "metadata": {},
   "outputs": [
    {
     "data": {
      "text/plain": [
       "0    POLYGON ((-115.64375 29.71392, -115.61585 29.6...\n",
       "1    POLYGON ((-105.58995 21.89340, -105.56483 21.8...\n",
       "2    POLYGON ((-111.15962 19.01536, -111.15948 18.9...\n",
       "3    POLYGON ((-80.86500 -0.77894, -80.75930 -0.833...\n",
       "4    POLYGON ((-67.33922 -55.67610, -67.33755 -55.6...\n",
       "Name: geometry, dtype: geometry"
      ]
     },
     "execution_count": 6,
     "metadata": {},
     "output_type": "execute_result"
    }
   ],
   "source": [
    "data['geometry'].head()"
   ]
  },
  {
   "cell_type": "code",
   "execution_count": 7,
   "metadata": {},
   "outputs": [],
   "source": [
    "selection = data[0:5]"
   ]
  },
  {
   "cell_type": "code",
   "execution_count": 8,
   "metadata": {},
   "outputs": [
    {
     "name": "stdout",
     "output_type": "stream",
     "text": [
      "Polygon area at index 0 is: 19.396\n",
      "Polygon area at index 1 is: 6.146\n",
      "Polygon area at index 2 is: 2.697\n",
      "Polygon area at index 3 is: 87.461\n",
      "Polygon area at index 4 is: 0.001\n"
     ]
    }
   ],
   "source": [
    "for index, row in selection.iterrows():\n",
    "    poly_area = row['geometry'].area\n",
    "    print(\"Polygon area at index {0} is: {1:.3f}\".format(index, poly_area))"
   ]
  },
  {
   "cell_type": "code",
   "execution_count": 9,
   "metadata": {},
   "outputs": [
    {
     "name": "stderr",
     "output_type": "stream",
     "text": [
      "C:\\temp/ipykernel_39620/2440170118.py:1: UserWarning: Geometry is in a geographic CRS. Results from 'area' are likely incorrect. Use 'GeoSeries.to_crs()' to re-project geometries to a projected CRS before this operation.\n",
      "\n",
      "  data['area'] = data.area\n"
     ]
    }
   ],
   "source": [
    "data['area'] = data.area"
   ]
  },
  {
   "cell_type": "code",
   "execution_count": 10,
   "metadata": {},
   "outputs": [
    {
     "data": {
      "text/plain": [
       "0    19.396254\n",
       "1     6.145902\n",
       "Name: area, dtype: float64"
      ]
     },
     "execution_count": 10,
     "metadata": {},
     "output_type": "execute_result"
    }
   ],
   "source": [
    "data['area'].head(2)"
   ]
  },
  {
   "cell_type": "code",
   "execution_count": 11,
   "metadata": {},
   "outputs": [
    {
     "name": "stdout",
     "output_type": "stream",
     "text": [
      "Max area: 1493.20\n",
      "Mean area: 19.96\n"
     ]
    }
   ],
   "source": [
    "max_area = data['area'].max()\n",
    "mean_area = data['area'].mean()\n",
    "\n",
    "print(\"Max area: {:.2f}\\nMean area: {:.2f}\".format(round(max_area, 2), round(mean_area, 2)))"
   ]
  },
  {
   "cell_type": "code",
   "execution_count": 12,
   "metadata": {},
   "outputs": [],
   "source": [
    "# Import necessary modules first\n",
    "import pandas as pd\n",
    "import geopandas as gpd\n",
    "from shapely.geometry import Point, Polygon\n",
    "import fiona\n",
    "\n",
    "# Create an empty geopandas GeoDataFrame\n",
    "newdata = gpd.GeoDataFrame()"
   ]
  },
  {
   "cell_type": "code",
   "execution_count": 13,
   "metadata": {},
   "outputs": [
    {
     "data": {
      "text/html": [
       "<div>\n",
       "<style scoped>\n",
       "    .dataframe tbody tr th:only-of-type {\n",
       "        vertical-align: middle;\n",
       "    }\n",
       "\n",
       "    .dataframe tbody tr th {\n",
       "        vertical-align: top;\n",
       "    }\n",
       "\n",
       "    .dataframe thead th {\n",
       "        text-align: right;\n",
       "    }\n",
       "</style>\n",
       "<table border=\"1\" class=\"dataframe\">\n",
       "  <thead>\n",
       "    <tr style=\"text-align: right;\">\n",
       "      <th></th>\n",
       "    </tr>\n",
       "  </thead>\n",
       "  <tbody>\n",
       "  </tbody>\n",
       "</table>\n",
       "</div>"
      ],
      "text/plain": [
       "Empty GeoDataFrame\n",
       "Columns: []\n",
       "Index: []"
      ]
     },
     "execution_count": 13,
     "metadata": {},
     "output_type": "execute_result"
    }
   ],
   "source": [
    "newdata"
   ]
  },
  {
   "cell_type": "code",
   "execution_count": 14,
   "metadata": {},
   "outputs": [],
   "source": [
    "newdata['geometry'] = None"
   ]
  },
  {
   "cell_type": "code",
   "execution_count": 15,
   "metadata": {},
   "outputs": [
    {
     "data": {
      "text/html": [
       "<div>\n",
       "<style scoped>\n",
       "    .dataframe tbody tr th:only-of-type {\n",
       "        vertical-align: middle;\n",
       "    }\n",
       "\n",
       "    .dataframe tbody tr th {\n",
       "        vertical-align: top;\n",
       "    }\n",
       "\n",
       "    .dataframe thead th {\n",
       "        text-align: right;\n",
       "    }\n",
       "</style>\n",
       "<table border=\"1\" class=\"dataframe\">\n",
       "  <thead>\n",
       "    <tr style=\"text-align: right;\">\n",
       "      <th></th>\n",
       "      <th>geometry</th>\n",
       "    </tr>\n",
       "  </thead>\n",
       "  <tbody>\n",
       "  </tbody>\n",
       "</table>\n",
       "</div>"
      ],
      "text/plain": [
       "Empty GeoDataFrame\n",
       "Columns: [geometry]\n",
       "Index: []"
      ]
     },
     "execution_count": 15,
     "metadata": {},
     "output_type": "execute_result"
    }
   ],
   "source": [
    "newdata"
   ]
  },
  {
   "cell_type": "code",
   "execution_count": 16,
   "metadata": {},
   "outputs": [
    {
     "data": {
      "image/svg+xml": [
       "<svg xmlns=\"http://www.w3.org/2000/svg\" xmlns:xlink=\"http://www.w3.org/1999/xlink\" width=\"100.0\" height=\"100.0\" viewBox=\"26.72200324 58.37981924 0.0030715200000024367 0.0009705199999956449\" preserveAspectRatio=\"xMinYMin meet\"><g transform=\"matrix(1,0,0,-1,0,116.760609)\"><path fill-rule=\"evenodd\" fill=\"#66cc99\" stroke=\"#555555\" stroke-width=\"6.143040000004874e-05\" opacity=\"0.6\" d=\"M 26.722117,58.380184 L 26.724853,58.380676 L 26.724961,58.380518 L 26.722372,58.379933 L 26.722117,58.380184 z\" /></g></svg>"
      ],
      "text/plain": [
       "<shapely.geometry.polygon.Polygon at 0x23eb3ab65b0>"
      ]
     },
     "execution_count": 16,
     "metadata": {},
     "output_type": "execute_result"
    }
   ],
   "source": [
    "coordinates = [(26.722117, 58.380184), (26.724853, 58.380676), (26.724961, 58.380518), (26.722372, 58.379933)]\n",
    "    \n",
    "poly = Polygon(coordinates)\n",
    "\n",
    "poly"
   ]
  },
  {
   "cell_type": "code",
   "execution_count": 17,
   "metadata": {},
   "outputs": [
    {
     "data": {
      "text/html": [
       "<div>\n",
       "<style scoped>\n",
       "    .dataframe tbody tr th:only-of-type {\n",
       "        vertical-align: middle;\n",
       "    }\n",
       "\n",
       "    .dataframe tbody tr th {\n",
       "        vertical-align: top;\n",
       "    }\n",
       "\n",
       "    .dataframe thead th {\n",
       "        text-align: right;\n",
       "    }\n",
       "</style>\n",
       "<table border=\"1\" class=\"dataframe\">\n",
       "  <thead>\n",
       "    <tr style=\"text-align: right;\">\n",
       "      <th></th>\n",
       "      <th>geometry</th>\n",
       "    </tr>\n",
       "  </thead>\n",
       "  <tbody>\n",
       "    <tr>\n",
       "      <th>0</th>\n",
       "      <td>POLYGON ((26.72212 58.38018, 26.72485 58.38068...</td>\n",
       "    </tr>\n",
       "  </tbody>\n",
       "</table>\n",
       "</div>"
      ],
      "text/plain": [
       "                                            geometry\n",
       "0  POLYGON ((26.72212 58.38018, 26.72485 58.38068..."
      ]
     },
     "execution_count": 17,
     "metadata": {},
     "output_type": "execute_result"
    }
   ],
   "source": [
    "newdata.loc[0, 'geometry'] = poly\n",
    "\n",
    "newdata\n"
   ]
  },
  {
   "cell_type": "code",
   "execution_count": 18,
   "metadata": {},
   "outputs": [
    {
     "data": {
      "text/html": [
       "<div>\n",
       "<style scoped>\n",
       "    .dataframe tbody tr th:only-of-type {\n",
       "        vertical-align: middle;\n",
       "    }\n",
       "\n",
       "    .dataframe tbody tr th {\n",
       "        vertical-align: top;\n",
       "    }\n",
       "\n",
       "    .dataframe thead th {\n",
       "        text-align: right;\n",
       "    }\n",
       "</style>\n",
       "<table border=\"1\" class=\"dataframe\">\n",
       "  <thead>\n",
       "    <tr style=\"text-align: right;\">\n",
       "      <th></th>\n",
       "      <th>geometry</th>\n",
       "      <th>Location</th>\n",
       "    </tr>\n",
       "  </thead>\n",
       "  <tbody>\n",
       "    <tr>\n",
       "      <th>0</th>\n",
       "      <td>POLYGON ((26.72212 58.38018, 26.72485 58.38068...</td>\n",
       "      <td>Tartu Townhall Square</td>\n",
       "    </tr>\n",
       "  </tbody>\n",
       "</table>\n",
       "</div>"
      ],
      "text/plain": [
       "                                            geometry               Location\n",
       "0  POLYGON ((26.72212 58.38018, 26.72485 58.38068...  Tartu Townhall Square"
      ]
     },
     "execution_count": 18,
     "metadata": {},
     "output_type": "execute_result"
    }
   ],
   "source": [
    "newdata.loc[0, 'Location'] = 'Tartu Townhall Square'\n",
    "\n",
    "newdata\n"
   ]
  },
  {
   "cell_type": "code",
   "execution_count": 19,
   "metadata": {},
   "outputs": [
    {
     "name": "stdout",
     "output_type": "stream",
     "text": [
      "None\n"
     ]
    }
   ],
   "source": [
    "print(newdata.crs)"
   ]
  },
  {
   "cell_type": "code",
   "execution_count": 20,
   "metadata": {},
   "outputs": [
    {
     "name": "stderr",
     "output_type": "stream",
     "text": [
      "c:\\dev\\conda3\\envs\\geopy2021a\\lib\\site-packages\\pyproj\\crs\\crs.py:68: FutureWarning: '+init=<authority>:<code>' syntax is deprecated. '<authority>:<code>' is the preferred initialization method. When making the change, be mindful of axis order changes: https://pyproj4.github.io/pyproj/stable/gotchas.html#axis-order-changes-in-proj-6\n",
      "  return _prepare_from_string(\" \".join(pjargs))\n"
     ]
    },
    {
     "data": {
      "text/plain": [
       "<Geographic 2D CRS: +init=epsg:4326 +no_defs +type=crs>\n",
       "Name: WGS 84\n",
       "Axis Info [ellipsoidal]:\n",
       "- lon[east]: Longitude (degree)\n",
       "- lat[north]: Latitude (degree)\n",
       "Area of Use:\n",
       "- name: World.\n",
       "- bounds: (-180.0, -90.0, 180.0, 90.0)\n",
       "Datum: World Geodetic System 1984\n",
       "- Ellipsoid: WGS 84\n",
       "- Prime Meridian: Greenwich"
      ]
     },
     "execution_count": 20,
     "metadata": {},
     "output_type": "execute_result"
    }
   ],
   "source": [
    "# Import specific function 'from_epsg' from fiona module\n",
    "from fiona.crs import from_epsg\n",
    "\n",
    "\n",
    "# Set the GeoDataFrame's coordinate system to WGS84\n",
    "newdata.crs = from_epsg(4326)\n",
    "\n",
    "# Let's see how the crs definition looks like\n",
    "newdata.crs"
   ]
  },
  {
   "cell_type": "code",
   "execution_count": 21,
   "metadata": {},
   "outputs": [],
   "source": [
    "# if you got a warning about FutureWarning: '+init=<authority>:<code>' syntax is deprecated. '<authority>:<code>':\n",
    "# it is now also supported to directly use well-known EPSG codes:\n",
    "# newdata.crs = \"EPSG:4326\"\n",
    "# or even\n",
    "# newdata.crs = 4326"
   ]
  },
  {
   "cell_type": "code",
   "execution_count": 22,
   "metadata": {},
   "outputs": [
    {
     "data": {
      "text/plain": [
       "<AxesSubplot:>"
      ]
     },
     "execution_count": 22,
     "metadata": {},
     "output_type": "execute_result"
    },
    {
     "data": {
      "image/png": "[encoded data removed]",
      "text/plain": [
       "<Figure size 432x288 with 1 Axes>"
      ]
     },
     "metadata": {
      "needs_background": "light"
     },
     "output_type": "display_data"
    }
   ],
   "source": [
    "newdata.plot()"
   ]
  },
  {
   "cell_type": "code",
   "execution_count": 23,
   "metadata": {},
   "outputs": [],
   "source": [
    "# Determine the output path for the Shapefile\n",
    "out_file = \"raekoja_plats.shp\"\n",
    "\n",
    "# Write the data into that Shapefile\n",
    "newdata.to_file(out_file)"
   ]
  },
  {
   "cell_type": "code",
   "execution_count": 24,
   "metadata": {},
   "outputs": [
    {
     "data": {
      "text/html": [
       "<div>\n",
       "<style scoped>\n",
       "    .dataframe tbody tr th:only-of-type {\n",
       "        vertical-align: middle;\n",
       "    }\n",
       "\n",
       "    .dataframe tbody tr th {\n",
       "        vertical-align: top;\n",
       "    }\n",
       "\n",
       "    .dataframe thead th {\n",
       "        text-align: right;\n",
       "    }\n",
       "</style>\n",
       "<table border=\"1\" class=\"dataframe\">\n",
       "  <thead>\n",
       "    <tr style=\"text-align: right;\">\n",
       "      <th></th>\n",
       "      <th>ID_NO</th>\n",
       "      <th>BINOMIAL</th>\n",
       "      <th>ORIGIN</th>\n",
       "      <th>COMPILER</th>\n",
       "      <th>YEAR</th>\n",
       "      <th>CITATION</th>\n",
       "      <th>SOURCE</th>\n",
       "      <th>DIST_COMM</th>\n",
       "      <th>ISLAND</th>\n",
       "      <th>SUBSPECIES</th>\n",
       "      <th>...</th>\n",
       "      <th>KINGDOM_NA</th>\n",
       "      <th>PHYLUM_NAM</th>\n",
       "      <th>CLASS_NAME</th>\n",
       "      <th>ORDER_NAME</th>\n",
       "      <th>FAMILY_NAM</th>\n",
       "      <th>GENUS_NAME</th>\n",
       "      <th>SPECIES_NA</th>\n",
       "      <th>CATEGORY</th>\n",
       "      <th>geometry</th>\n",
       "      <th>area</th>\n",
       "    </tr>\n",
       "  </thead>\n",
       "  <tbody>\n",
       "    <tr>\n",
       "      <th>0</th>\n",
       "      <td>183963.0</td>\n",
       "      <td>Stegastes leucorus</td>\n",
       "      <td>1</td>\n",
       "      <td>IUCN</td>\n",
       "      <td>2010</td>\n",
       "      <td>International Union for Conservation of Nature...</td>\n",
       "      <td>None</td>\n",
       "      <td>None</td>\n",
       "      <td>None</td>\n",
       "      <td>None</td>\n",
       "      <td>...</td>\n",
       "      <td>ANIMALIA</td>\n",
       "      <td>CHORDATA</td>\n",
       "      <td>ACTINOPTERYGII</td>\n",
       "      <td>PERCIFORMES</td>\n",
       "      <td>POMACENTRIDAE</td>\n",
       "      <td>Stegastes</td>\n",
       "      <td>leucorus</td>\n",
       "      <td>VU</td>\n",
       "      <td>POLYGON ((-115.64375 29.71392, -115.61585 29.6...</td>\n",
       "      <td>19.396254</td>\n",
       "    </tr>\n",
       "    <tr>\n",
       "      <th>1</th>\n",
       "      <td>183963.0</td>\n",
       "      <td>Stegastes leucorus</td>\n",
       "      <td>1</td>\n",
       "      <td>IUCN</td>\n",
       "      <td>2010</td>\n",
       "      <td>International Union for Conservation of Nature...</td>\n",
       "      <td>None</td>\n",
       "      <td>None</td>\n",
       "      <td>None</td>\n",
       "      <td>None</td>\n",
       "      <td>...</td>\n",
       "      <td>ANIMALIA</td>\n",
       "      <td>CHORDATA</td>\n",
       "      <td>ACTINOPTERYGII</td>\n",
       "      <td>PERCIFORMES</td>\n",
       "      <td>POMACENTRIDAE</td>\n",
       "      <td>Stegastes</td>\n",
       "      <td>leucorus</td>\n",
       "      <td>VU</td>\n",
       "      <td>POLYGON ((-105.58995 21.89340, -105.56483 21.8...</td>\n",
       "      <td>6.145902</td>\n",
       "    </tr>\n",
       "    <tr>\n",
       "      <th>2</th>\n",
       "      <td>183963.0</td>\n",
       "      <td>Stegastes leucorus</td>\n",
       "      <td>1</td>\n",
       "      <td>IUCN</td>\n",
       "      <td>2010</td>\n",
       "      <td>International Union for Conservation of Nature...</td>\n",
       "      <td>None</td>\n",
       "      <td>None</td>\n",
       "      <td>None</td>\n",
       "      <td>None</td>\n",
       "      <td>...</td>\n",
       "      <td>ANIMALIA</td>\n",
       "      <td>CHORDATA</td>\n",
       "      <td>ACTINOPTERYGII</td>\n",
       "      <td>PERCIFORMES</td>\n",
       "      <td>POMACENTRIDAE</td>\n",
       "      <td>Stegastes</td>\n",
       "      <td>leucorus</td>\n",
       "      <td>VU</td>\n",
       "      <td>POLYGON ((-111.15962 19.01536, -111.15948 18.9...</td>\n",
       "      <td>2.697207</td>\n",
       "    </tr>\n",
       "    <tr>\n",
       "      <th>3</th>\n",
       "      <td>183793.0</td>\n",
       "      <td>Chromis intercrusma</td>\n",
       "      <td>1</td>\n",
       "      <td>IUCN</td>\n",
       "      <td>2010</td>\n",
       "      <td>International Union for Conservation of Nature...</td>\n",
       "      <td>None</td>\n",
       "      <td>None</td>\n",
       "      <td>None</td>\n",
       "      <td>None</td>\n",
       "      <td>...</td>\n",
       "      <td>ANIMALIA</td>\n",
       "      <td>CHORDATA</td>\n",
       "      <td>ACTINOPTERYGII</td>\n",
       "      <td>PERCIFORMES</td>\n",
       "      <td>POMACENTRIDAE</td>\n",
       "      <td>Chromis</td>\n",
       "      <td>intercrusma</td>\n",
       "      <td>LC</td>\n",
       "      <td>POLYGON ((-80.86500 -0.77894, -80.75930 -0.833...</td>\n",
       "      <td>87.460621</td>\n",
       "    </tr>\n",
       "    <tr>\n",
       "      <th>4</th>\n",
       "      <td>183793.0</td>\n",
       "      <td>Chromis intercrusma</td>\n",
       "      <td>1</td>\n",
       "      <td>IUCN</td>\n",
       "      <td>2010</td>\n",
       "      <td>International Union for Conservation of Nature...</td>\n",
       "      <td>None</td>\n",
       "      <td>None</td>\n",
       "      <td>None</td>\n",
       "      <td>None</td>\n",
       "      <td>...</td>\n",
       "      <td>ANIMALIA</td>\n",
       "      <td>CHORDATA</td>\n",
       "      <td>ACTINOPTERYGII</td>\n",
       "      <td>PERCIFORMES</td>\n",
       "      <td>POMACENTRIDAE</td>\n",
       "      <td>Chromis</td>\n",
       "      <td>intercrusma</td>\n",
       "      <td>LC</td>\n",
       "      <td>POLYGON ((-67.33922 -55.67610, -67.33755 -55.6...</td>\n",
       "      <td>0.000918</td>\n",
       "    </tr>\n",
       "    <tr>\n",
       "      <th>...</th>\n",
       "      <td>...</td>\n",
       "      <td>...</td>\n",
       "      <td>...</td>\n",
       "      <td>...</td>\n",
       "      <td>...</td>\n",
       "      <td>...</td>\n",
       "      <td>...</td>\n",
       "      <td>...</td>\n",
       "      <td>...</td>\n",
       "      <td>...</td>\n",
       "      <td>...</td>\n",
       "      <td>...</td>\n",
       "      <td>...</td>\n",
       "      <td>...</td>\n",
       "      <td>...</td>\n",
       "      <td>...</td>\n",
       "      <td>...</td>\n",
       "      <td>...</td>\n",
       "      <td>...</td>\n",
       "      <td>...</td>\n",
       "      <td>...</td>\n",
       "    </tr>\n",
       "    <tr>\n",
       "      <th>226</th>\n",
       "      <td>183774.0</td>\n",
       "      <td>Azurina hirundo</td>\n",
       "      <td>1</td>\n",
       "      <td>IUCN</td>\n",
       "      <td>2010</td>\n",
       "      <td>International Union for Conservation of Nature...</td>\n",
       "      <td>None</td>\n",
       "      <td>None</td>\n",
       "      <td>None</td>\n",
       "      <td>None</td>\n",
       "      <td>...</td>\n",
       "      <td>ANIMALIA</td>\n",
       "      <td>CHORDATA</td>\n",
       "      <td>ACTINOPTERYGII</td>\n",
       "      <td>PERCIFORMES</td>\n",
       "      <td>POMACENTRIDAE</td>\n",
       "      <td>Azurina</td>\n",
       "      <td>hirundo</td>\n",
       "      <td>NT</td>\n",
       "      <td>POLYGON ((-120.11829 34.47283, -120.10502 34.4...</td>\n",
       "      <td>5.990467</td>\n",
       "    </tr>\n",
       "    <tr>\n",
       "      <th>227</th>\n",
       "      <td>183774.0</td>\n",
       "      <td>Azurina hirundo</td>\n",
       "      <td>1</td>\n",
       "      <td>IUCN</td>\n",
       "      <td>2010</td>\n",
       "      <td>International Union for Conservation of Nature...</td>\n",
       "      <td>None</td>\n",
       "      <td>None</td>\n",
       "      <td>None</td>\n",
       "      <td>None</td>\n",
       "      <td>...</td>\n",
       "      <td>ANIMALIA</td>\n",
       "      <td>CHORDATA</td>\n",
       "      <td>ACTINOPTERYGII</td>\n",
       "      <td>PERCIFORMES</td>\n",
       "      <td>POMACENTRIDAE</td>\n",
       "      <td>Azurina</td>\n",
       "      <td>hirundo</td>\n",
       "      <td>NT</td>\n",
       "      <td>POLYGON ((-117.41363 29.18823, -117.40898 29.1...</td>\n",
       "      <td>3.638651</td>\n",
       "    </tr>\n",
       "    <tr>\n",
       "      <th>228</th>\n",
       "      <td>183774.0</td>\n",
       "      <td>Azurina hirundo</td>\n",
       "      <td>1</td>\n",
       "      <td>IUCN</td>\n",
       "      <td>2010</td>\n",
       "      <td>International Union for Conservation of Nature...</td>\n",
       "      <td>None</td>\n",
       "      <td>None</td>\n",
       "      <td>None</td>\n",
       "      <td>None</td>\n",
       "      <td>...</td>\n",
       "      <td>ANIMALIA</td>\n",
       "      <td>CHORDATA</td>\n",
       "      <td>ACTINOPTERYGII</td>\n",
       "      <td>PERCIFORMES</td>\n",
       "      <td>POMACENTRIDAE</td>\n",
       "      <td>Azurina</td>\n",
       "      <td>hirundo</td>\n",
       "      <td>NT</td>\n",
       "      <td>POLYGON ((-114.63839 28.39008, -114.63660 28.3...</td>\n",
       "      <td>2.849025</td>\n",
       "    </tr>\n",
       "    <tr>\n",
       "      <th>229</th>\n",
       "      <td>183774.0</td>\n",
       "      <td>Azurina hirundo</td>\n",
       "      <td>1</td>\n",
       "      <td>IUCN</td>\n",
       "      <td>2010</td>\n",
       "      <td>International Union for Conservation of Nature...</td>\n",
       "      <td>None</td>\n",
       "      <td>None</td>\n",
       "      <td>None</td>\n",
       "      <td>None</td>\n",
       "      <td>...</td>\n",
       "      <td>ANIMALIA</td>\n",
       "      <td>CHORDATA</td>\n",
       "      <td>ACTINOPTERYGII</td>\n",
       "      <td>PERCIFORMES</td>\n",
       "      <td>POMACENTRIDAE</td>\n",
       "      <td>Azurina</td>\n",
       "      <td>hirundo</td>\n",
       "      <td>NT</td>\n",
       "      <td>POLYGON ((-111.15962 19.01536, -111.15948 18.9...</td>\n",
       "      <td>2.697207</td>\n",
       "    </tr>\n",
       "    <tr>\n",
       "      <th>230</th>\n",
       "      <td>183774.0</td>\n",
       "      <td>Azurina hirundo</td>\n",
       "      <td>1</td>\n",
       "      <td>IUCN</td>\n",
       "      <td>2010</td>\n",
       "      <td>International Union for Conservation of Nature...</td>\n",
       "      <td>None</td>\n",
       "      <td>None</td>\n",
       "      <td>None</td>\n",
       "      <td>None</td>\n",
       "      <td>...</td>\n",
       "      <td>ANIMALIA</td>\n",
       "      <td>CHORDATA</td>\n",
       "      <td>ACTINOPTERYGII</td>\n",
       "      <td>PERCIFORMES</td>\n",
       "      <td>POMACENTRIDAE</td>\n",
       "      <td>Azurina</td>\n",
       "      <td>hirundo</td>\n",
       "      <td>NT</td>\n",
       "      <td>POLYGON ((-114.24428 22.71135, -114.24818 22.7...</td>\n",
       "      <td>2.237186</td>\n",
       "    </tr>\n",
       "  </tbody>\n",
       "</table>\n",
       "<p>231 rows × 25 columns</p>\n",
       "</div>"
      ],
      "text/plain": [
       "        ID_NO             BINOMIAL  ORIGIN COMPILER  YEAR  \\\n",
       "0    183963.0   Stegastes leucorus       1     IUCN  2010   \n",
       "1    183963.0   Stegastes leucorus       1     IUCN  2010   \n",
       "2    183963.0   Stegastes leucorus       1     IUCN  2010   \n",
       "3    183793.0  Chromis intercrusma       1     IUCN  2010   \n",
       "4    183793.0  Chromis intercrusma       1     IUCN  2010   \n",
       "..        ...                  ...     ...      ...   ...   \n",
       "226  183774.0      Azurina hirundo       1     IUCN  2010   \n",
       "227  183774.0      Azurina hirundo       1     IUCN  2010   \n",
       "228  183774.0      Azurina hirundo       1     IUCN  2010   \n",
       "229  183774.0      Azurina hirundo       1     IUCN  2010   \n",
       "230  183774.0      Azurina hirundo       1     IUCN  2010   \n",
       "\n",
       "                                              CITATION SOURCE DIST_COMM  \\\n",
       "0    International Union for Conservation of Nature...   None      None   \n",
       "1    International Union for Conservation of Nature...   None      None   \n",
       "2    International Union for Conservation of Nature...   None      None   \n",
       "3    International Union for Conservation of Nature...   None      None   \n",
       "4    International Union for Conservation of Nature...   None      None   \n",
       "..                                                 ...    ...       ...   \n",
       "226  International Union for Conservation of Nature...   None      None   \n",
       "227  International Union for Conservation of Nature...   None      None   \n",
       "228  International Union for Conservation of Nature...   None      None   \n",
       "229  International Union for Conservation of Nature...   None      None   \n",
       "230  International Union for Conservation of Nature...   None      None   \n",
       "\n",
       "    ISLAND SUBSPECIES  ... KINGDOM_NA PHYLUM_NAM      CLASS_NAME   ORDER_NAME  \\\n",
       "0     None       None  ...   ANIMALIA   CHORDATA  ACTINOPTERYGII  PERCIFORMES   \n",
       "1     None       None  ...   ANIMALIA   CHORDATA  ACTINOPTERYGII  PERCIFORMES   \n",
       "2     None       None  ...   ANIMALIA   CHORDATA  ACTINOPTERYGII  PERCIFORMES   \n",
       "3     None       None  ...   ANIMALIA   CHORDATA  ACTINOPTERYGII  PERCIFORMES   \n",
       "4     None       None  ...   ANIMALIA   CHORDATA  ACTINOPTERYGII  PERCIFORMES   \n",
       "..     ...        ...  ...        ...        ...             ...          ...   \n",
       "226   None       None  ...   ANIMALIA   CHORDATA  ACTINOPTERYGII  PERCIFORMES   \n",
       "227   None       None  ...   ANIMALIA   CHORDATA  ACTINOPTERYGII  PERCIFORMES   \n",
       "228   None       None  ...   ANIMALIA   CHORDATA  ACTINOPTERYGII  PERCIFORMES   \n",
       "229   None       None  ...   ANIMALIA   CHORDATA  ACTINOPTERYGII  PERCIFORMES   \n",
       "230   None       None  ...   ANIMALIA   CHORDATA  ACTINOPTERYGII  PERCIFORMES   \n",
       "\n",
       "        FAMILY_NAM GENUS_NAME   SPECIES_NA CATEGORY  \\\n",
       "0    POMACENTRIDAE  Stegastes     leucorus       VU   \n",
       "1    POMACENTRIDAE  Stegastes     leucorus       VU   \n",
       "2    POMACENTRIDAE  Stegastes     leucorus       VU   \n",
       "3    POMACENTRIDAE    Chromis  intercrusma       LC   \n",
       "4    POMACENTRIDAE    Chromis  intercrusma       LC   \n",
       "..             ...        ...          ...      ...   \n",
       "226  POMACENTRIDAE    Azurina      hirundo       NT   \n",
       "227  POMACENTRIDAE    Azurina      hirundo       NT   \n",
       "228  POMACENTRIDAE    Azurina      hirundo       NT   \n",
       "229  POMACENTRIDAE    Azurina      hirundo       NT   \n",
       "230  POMACENTRIDAE    Azurina      hirundo       NT   \n",
       "\n",
       "                                              geometry       area  \n",
       "0    POLYGON ((-115.64375 29.71392, -115.61585 29.6...  19.396254  \n",
       "1    POLYGON ((-105.58995 21.89340, -105.56483 21.8...   6.145902  \n",
       "2    POLYGON ((-111.15962 19.01536, -111.15948 18.9...   2.697207  \n",
       "3    POLYGON ((-80.86500 -0.77894, -80.75930 -0.833...  87.460621  \n",
       "4    POLYGON ((-67.33922 -55.67610, -67.33755 -55.6...   0.000918  \n",
       "..                                                 ...        ...  \n",
       "226  POLYGON ((-120.11829 34.47283, -120.10502 34.4...   5.990467  \n",
       "227  POLYGON ((-117.41363 29.18823, -117.40898 29.1...   3.638651  \n",
       "228  POLYGON ((-114.63839 28.39008, -114.63660 28.3...   2.849025  \n",
       "229  POLYGON ((-111.15962 19.01536, -111.15948 18.9...   2.697207  \n",
       "230  POLYGON ((-114.24428 22.71135, -114.24818 22.7...   2.237186  \n",
       "\n",
       "[231 rows x 25 columns]"
      ]
     },
     "execution_count": 24,
     "metadata": {},
     "output_type": "execute_result"
    }
   ],
   "source": [
    "data"
   ]
  },
  {
   "cell_type": "code",
   "execution_count": 25,
   "metadata": {},
   "outputs": [
    {
     "data": {
      "text/plain": [
       "<pandas.core.groupby.generic.DataFrameGroupBy object at 0x0000023EB43FA2E0>"
      ]
     },
     "execution_count": 25,
     "metadata": {},
     "output_type": "execute_result"
    }
   ],
   "source": [
    "# Group the data by column 'BINOMIAL'\n",
    "grouped = data.groupby('BINOMIAL')\n",
    "\n",
    "# Let's see what we got\n",
    "grouped"
   ]
  },
  {
   "cell_type": "code",
   "execution_count": 26,
   "metadata": {},
   "outputs": [
    {
     "name": "stdout",
     "output_type": "stream",
     "text": [
      "Abudefduf concolor\n",
      "Abudefduf declivifrons\n",
      "Abudefduf troschelii\n",
      "Amphiprion sandaracinos\n",
      "Azurina eupalama\n",
      "Azurina hirundo\n",
      "Chromis alpha\n",
      "Chromis alta\n",
      "Chromis atrilobata\n",
      "Chromis crusma\n",
      "Chromis cyanea\n",
      "Chromis flavicauda\n",
      "Chromis intercrusma\n",
      "Chromis limbaughi\n",
      "Chromis pembae\n",
      "Chromis punctipinnis\n",
      "Chrysiptera flavipinnis\n",
      "Hypsypops rubicundus\n",
      "Microspathodon bairdii\n",
      "Microspathodon dorsalis\n",
      "Nexilosus latifrons\n",
      "Stegastes acapulcoensis\n",
      "Stegastes arcifrons\n",
      "Stegastes baldwini\n",
      "Stegastes beebei\n",
      "Stegastes flavilatus\n",
      "Stegastes leucorus\n",
      "Stegastes rectifraenum\n",
      "Stegastes redemptus\n",
      "Teixeirichthys jordani\n"
     ]
    }
   ],
   "source": [
    "# Iterate over the group object\n",
    "for key, values in grouped:\n",
    "    individual_fish = values\n",
    "    print(key)"
   ]
  },
  {
   "cell_type": "code",
   "execution_count": 27,
   "metadata": {},
   "outputs": [
    {
     "data": {
      "text/html": [
       "<div>\n",
       "<style scoped>\n",
       "    .dataframe tbody tr th:only-of-type {\n",
       "        vertical-align: middle;\n",
       "    }\n",
       "\n",
       "    .dataframe tbody tr th {\n",
       "        vertical-align: top;\n",
       "    }\n",
       "\n",
       "    .dataframe thead th {\n",
       "        text-align: right;\n",
       "    }\n",
       "</style>\n",
       "<table border=\"1\" class=\"dataframe\">\n",
       "  <thead>\n",
       "    <tr style=\"text-align: right;\">\n",
       "      <th></th>\n",
       "      <th>ID_NO</th>\n",
       "      <th>BINOMIAL</th>\n",
       "      <th>ORIGIN</th>\n",
       "      <th>COMPILER</th>\n",
       "      <th>YEAR</th>\n",
       "      <th>CITATION</th>\n",
       "      <th>SOURCE</th>\n",
       "      <th>DIST_COMM</th>\n",
       "      <th>ISLAND</th>\n",
       "      <th>SUBSPECIES</th>\n",
       "      <th>...</th>\n",
       "      <th>KINGDOM_NA</th>\n",
       "      <th>PHYLUM_NAM</th>\n",
       "      <th>CLASS_NAME</th>\n",
       "      <th>ORDER_NAME</th>\n",
       "      <th>FAMILY_NAM</th>\n",
       "      <th>GENUS_NAME</th>\n",
       "      <th>SPECIES_NA</th>\n",
       "      <th>CATEGORY</th>\n",
       "      <th>geometry</th>\n",
       "      <th>area</th>\n",
       "    </tr>\n",
       "  </thead>\n",
       "  <tbody>\n",
       "    <tr>\n",
       "      <th>27</th>\n",
       "      <td>154915.0</td>\n",
       "      <td>Teixeirichthys jordani</td>\n",
       "      <td>1</td>\n",
       "      <td>None</td>\n",
       "      <td>2012</td>\n",
       "      <td>Red List Index (Sampled Approach), Zoological ...</td>\n",
       "      <td>None</td>\n",
       "      <td>None</td>\n",
       "      <td>None</td>\n",
       "      <td>None</td>\n",
       "      <td>...</td>\n",
       "      <td>ANIMALIA</td>\n",
       "      <td>CHORDATA</td>\n",
       "      <td>ACTINOPTERYGII</td>\n",
       "      <td>PERCIFORMES</td>\n",
       "      <td>POMACENTRIDAE</td>\n",
       "      <td>Teixeirichthys</td>\n",
       "      <td>jordani</td>\n",
       "      <td>LC</td>\n",
       "      <td>POLYGON ((121.63003 33.04249, 121.63219 33.042...</td>\n",
       "      <td>38.671198</td>\n",
       "    </tr>\n",
       "    <tr>\n",
       "      <th>28</th>\n",
       "      <td>154915.0</td>\n",
       "      <td>Teixeirichthys jordani</td>\n",
       "      <td>1</td>\n",
       "      <td>None</td>\n",
       "      <td>2012</td>\n",
       "      <td>Red List Index (Sampled Approach), Zoological ...</td>\n",
       "      <td>None</td>\n",
       "      <td>None</td>\n",
       "      <td>None</td>\n",
       "      <td>None</td>\n",
       "      <td>...</td>\n",
       "      <td>ANIMALIA</td>\n",
       "      <td>CHORDATA</td>\n",
       "      <td>ACTINOPTERYGII</td>\n",
       "      <td>PERCIFORMES</td>\n",
       "      <td>POMACENTRIDAE</td>\n",
       "      <td>Teixeirichthys</td>\n",
       "      <td>jordani</td>\n",
       "      <td>LC</td>\n",
       "      <td>POLYGON ((32.56219 29.97489, 32.56497 29.96967...</td>\n",
       "      <td>37.445735</td>\n",
       "    </tr>\n",
       "    <tr>\n",
       "      <th>29</th>\n",
       "      <td>154915.0</td>\n",
       "      <td>Teixeirichthys jordani</td>\n",
       "      <td>1</td>\n",
       "      <td>None</td>\n",
       "      <td>2012</td>\n",
       "      <td>Red List Index (Sampled Approach), Zoological ...</td>\n",
       "      <td>None</td>\n",
       "      <td>None</td>\n",
       "      <td>None</td>\n",
       "      <td>None</td>\n",
       "      <td>...</td>\n",
       "      <td>ANIMALIA</td>\n",
       "      <td>CHORDATA</td>\n",
       "      <td>ACTINOPTERYGII</td>\n",
       "      <td>PERCIFORMES</td>\n",
       "      <td>POMACENTRIDAE</td>\n",
       "      <td>Teixeirichthys</td>\n",
       "      <td>jordani</td>\n",
       "      <td>LC</td>\n",
       "      <td>POLYGON ((130.90521 34.02498, 130.90710 34.022...</td>\n",
       "      <td>16.939460</td>\n",
       "    </tr>\n",
       "    <tr>\n",
       "      <th>30</th>\n",
       "      <td>154915.0</td>\n",
       "      <td>Teixeirichthys jordani</td>\n",
       "      <td>1</td>\n",
       "      <td>None</td>\n",
       "      <td>2012</td>\n",
       "      <td>Red List Index (Sampled Approach), Zoological ...</td>\n",
       "      <td>None</td>\n",
       "      <td>None</td>\n",
       "      <td>None</td>\n",
       "      <td>None</td>\n",
       "      <td>...</td>\n",
       "      <td>ANIMALIA</td>\n",
       "      <td>CHORDATA</td>\n",
       "      <td>ACTINOPTERYGII</td>\n",
       "      <td>PERCIFORMES</td>\n",
       "      <td>POMACENTRIDAE</td>\n",
       "      <td>Teixeirichthys</td>\n",
       "      <td>jordani</td>\n",
       "      <td>LC</td>\n",
       "      <td>POLYGON ((56.32233 -3.70727, 56.32294 -3.70872...</td>\n",
       "      <td>10.126967</td>\n",
       "    </tr>\n",
       "    <tr>\n",
       "      <th>31</th>\n",
       "      <td>154915.0</td>\n",
       "      <td>Teixeirichthys jordani</td>\n",
       "      <td>1</td>\n",
       "      <td>None</td>\n",
       "      <td>2012</td>\n",
       "      <td>Red List Index (Sampled Approach), Zoological ...</td>\n",
       "      <td>None</td>\n",
       "      <td>None</td>\n",
       "      <td>None</td>\n",
       "      <td>None</td>\n",
       "      <td>...</td>\n",
       "      <td>ANIMALIA</td>\n",
       "      <td>CHORDATA</td>\n",
       "      <td>ACTINOPTERYGII</td>\n",
       "      <td>PERCIFORMES</td>\n",
       "      <td>POMACENTRIDAE</td>\n",
       "      <td>Teixeirichthys</td>\n",
       "      <td>jordani</td>\n",
       "      <td>LC</td>\n",
       "      <td>POLYGON ((40.64476 -10.85502, 40.64600 -10.855...</td>\n",
       "      <td>7.760303</td>\n",
       "    </tr>\n",
       "    <tr>\n",
       "      <th>32</th>\n",
       "      <td>154915.0</td>\n",
       "      <td>Teixeirichthys jordani</td>\n",
       "      <td>1</td>\n",
       "      <td>None</td>\n",
       "      <td>2012</td>\n",
       "      <td>Red List Index (Sampled Approach), Zoological ...</td>\n",
       "      <td>None</td>\n",
       "      <td>None</td>\n",
       "      <td>None</td>\n",
       "      <td>None</td>\n",
       "      <td>...</td>\n",
       "      <td>ANIMALIA</td>\n",
       "      <td>CHORDATA</td>\n",
       "      <td>ACTINOPTERYGII</td>\n",
       "      <td>PERCIFORMES</td>\n",
       "      <td>POMACENTRIDAE</td>\n",
       "      <td>Teixeirichthys</td>\n",
       "      <td>jordani</td>\n",
       "      <td>LC</td>\n",
       "      <td>POLYGON ((48.11258 -9.33510, 48.11406 -9.33614...</td>\n",
       "      <td>3.434236</td>\n",
       "    </tr>\n",
       "    <tr>\n",
       "      <th>33</th>\n",
       "      <td>154915.0</td>\n",
       "      <td>Teixeirichthys jordani</td>\n",
       "      <td>1</td>\n",
       "      <td>None</td>\n",
       "      <td>2012</td>\n",
       "      <td>Red List Index (Sampled Approach), Zoological ...</td>\n",
       "      <td>None</td>\n",
       "      <td>None</td>\n",
       "      <td>None</td>\n",
       "      <td>None</td>\n",
       "      <td>...</td>\n",
       "      <td>ANIMALIA</td>\n",
       "      <td>CHORDATA</td>\n",
       "      <td>ACTINOPTERYGII</td>\n",
       "      <td>PERCIFORMES</td>\n",
       "      <td>POMACENTRIDAE</td>\n",
       "      <td>Teixeirichthys</td>\n",
       "      <td>jordani</td>\n",
       "      <td>LC</td>\n",
       "      <td>POLYGON ((51.75404 -9.21679, 51.75532 -9.21879...</td>\n",
       "      <td>2.408620</td>\n",
       "    </tr>\n",
       "  </tbody>\n",
       "</table>\n",
       "<p>7 rows × 25 columns</p>\n",
       "</div>"
      ],
      "text/plain": [
       "       ID_NO                BINOMIAL  ORIGIN COMPILER  YEAR  \\\n",
       "27  154915.0  Teixeirichthys jordani       1     None  2012   \n",
       "28  154915.0  Teixeirichthys jordani       1     None  2012   \n",
       "29  154915.0  Teixeirichthys jordani       1     None  2012   \n",
       "30  154915.0  Teixeirichthys jordani       1     None  2012   \n",
       "31  154915.0  Teixeirichthys jordani       1     None  2012   \n",
       "32  154915.0  Teixeirichthys jordani       1     None  2012   \n",
       "33  154915.0  Teixeirichthys jordani       1     None  2012   \n",
       "\n",
       "                                             CITATION SOURCE DIST_COMM ISLAND  \\\n",
       "27  Red List Index (Sampled Approach), Zoological ...   None      None   None   \n",
       "28  Red List Index (Sampled Approach), Zoological ...   None      None   None   \n",
       "29  Red List Index (Sampled Approach), Zoological ...   None      None   None   \n",
       "30  Red List Index (Sampled Approach), Zoological ...   None      None   None   \n",
       "31  Red List Index (Sampled Approach), Zoological ...   None      None   None   \n",
       "32  Red List Index (Sampled Approach), Zoological ...   None      None   None   \n",
       "33  Red List Index (Sampled Approach), Zoological ...   None      None   None   \n",
       "\n",
       "   SUBSPECIES  ... KINGDOM_NA PHYLUM_NAM      CLASS_NAME   ORDER_NAME  \\\n",
       "27       None  ...   ANIMALIA   CHORDATA  ACTINOPTERYGII  PERCIFORMES   \n",
       "28       None  ...   ANIMALIA   CHORDATA  ACTINOPTERYGII  PERCIFORMES   \n",
       "29       None  ...   ANIMALIA   CHORDATA  ACTINOPTERYGII  PERCIFORMES   \n",
       "30       None  ...   ANIMALIA   CHORDATA  ACTINOPTERYGII  PERCIFORMES   \n",
       "31       None  ...   ANIMALIA   CHORDATA  ACTINOPTERYGII  PERCIFORMES   \n",
       "32       None  ...   ANIMALIA   CHORDATA  ACTINOPTERYGII  PERCIFORMES   \n",
       "33       None  ...   ANIMALIA   CHORDATA  ACTINOPTERYGII  PERCIFORMES   \n",
       "\n",
       "       FAMILY_NAM      GENUS_NAME SPECIES_NA CATEGORY  \\\n",
       "27  POMACENTRIDAE  Teixeirichthys    jordani       LC   \n",
       "28  POMACENTRIDAE  Teixeirichthys    jordani       LC   \n",
       "29  POMACENTRIDAE  Teixeirichthys    jordani       LC   \n",
       "30  POMACENTRIDAE  Teixeirichthys    jordani       LC   \n",
       "31  POMACENTRIDAE  Teixeirichthys    jordani       LC   \n",
       "32  POMACENTRIDAE  Teixeirichthys    jordani       LC   \n",
       "33  POMACENTRIDAE  Teixeirichthys    jordani       LC   \n",
       "\n",
       "                                             geometry       area  \n",
       "27  POLYGON ((121.63003 33.04249, 121.63219 33.042...  38.671198  \n",
       "28  POLYGON ((32.56219 29.97489, 32.56497 29.96967...  37.445735  \n",
       "29  POLYGON ((130.90521 34.02498, 130.90710 34.022...  16.939460  \n",
       "30  POLYGON ((56.32233 -3.70727, 56.32294 -3.70872...  10.126967  \n",
       "31  POLYGON ((40.64476 -10.85502, 40.64600 -10.855...   7.760303  \n",
       "32  POLYGON ((48.11258 -9.33510, 48.11406 -9.33614...   3.434236  \n",
       "33  POLYGON ((51.75404 -9.21679, 51.75532 -9.21879...   2.408620  \n",
       "\n",
       "[7 rows x 25 columns]"
      ]
     },
     "execution_count": 27,
     "metadata": {},
     "output_type": "execute_result"
    }
   ],
   "source": [
    "# Let's see what is the LAST item that we iterated\n",
    "individual_fish"
   ]
  },
  {
   "cell_type": "code",
   "execution_count": 28,
   "metadata": {},
   "outputs": [
    {
     "data": {
      "text/plain": [
       "geopandas.geodataframe.GeoDataFrame"
      ]
     },
     "execution_count": 28,
     "metadata": {},
     "output_type": "execute_result"
    }
   ],
   "source": [
    "type(individual_fish)"
   ]
  },
  {
   "cell_type": "code",
   "execution_count": 29,
   "metadata": {},
   "outputs": [
    {
     "name": "stdout",
     "output_type": "stream",
     "text": [
      "Teixeirichthys jordani\n"
     ]
    }
   ],
   "source": [
    "print(key)"
   ]
  },
  {
   "cell_type": "code",
   "execution_count": 30,
   "metadata": {},
   "outputs": [
    {
     "name": "stdout",
     "output_type": "stream",
     "text": [
      "Processing: Abudefduf_concolor.shp\n",
      "Processing: Abudefduf_declivifrons.shp\n",
      "Processing: Abudefduf_troschelii.shp\n",
      "Processing: Amphiprion_sandaracinos.shp\n",
      "Processing: Azurina_eupalama.shp\n",
      "Processing: Azurina_hirundo.shp\n",
      "Processing: Chromis_alpha.shp\n",
      "Processing: Chromis_alta.shp\n",
      "Processing: Chromis_atrilobata.shp\n",
      "Processing: Chromis_crusma.shp\n",
      "Processing: Chromis_cyanea.shp\n",
      "Processing: Chromis_flavicauda.shp\n",
      "Processing: Chromis_intercrusma.shp\n",
      "Processing: Chromis_limbaughi.shp\n",
      "Processing: Chromis_pembae.shp\n",
      "Processing: Chromis_punctipinnis.shp\n",
      "Processing: Chrysiptera_flavipinnis.shp\n",
      "Processing: Hypsypops_rubicundus.shp\n",
      "Processing: Microspathodon_bairdii.shp\n",
      "Processing: Microspathodon_dorsalis.shp\n",
      "Processing: Nexilosus_latifrons.shp\n",
      "Processing: Stegastes_acapulcoensis.shp\n",
      "Processing: Stegastes_arcifrons.shp\n",
      "Processing: Stegastes_baldwini.shp\n",
      "Processing: Stegastes_beebei.shp\n",
      "Processing: Stegastes_flavilatus.shp\n",
      "Processing: Stegastes_leucorus.shp\n",
      "Processing: Stegastes_rectifraenum.shp\n",
      "Processing: Stegastes_redemptus.shp\n",
      "Processing: Teixeirichthys_jordani.shp\n"
     ]
    }
   ],
   "source": [
    "import os\n",
    "\n",
    "# Determine outputpath\n",
    "result_folder = \"results\"\n",
    "\n",
    "# Create a new folder called 'Results' (if does not exist) to that folder using os.makedirs() function\n",
    "if not os.path.exists(result_folder):\n",
    "    os.makedirs(result_folder)\n",
    "\n",
    "# Iterate over the\n",
    "for key, values in grouped:\n",
    "    # Format the filename (replace spaces with underscores)\n",
    "    updated_key = key.replace(\" \", \"_\")\n",
    "    out_name = updated_key + \".shp\"\n",
    "\n",
    "    # Print some information for the user\n",
    "    print( \"Processing: {}\".format(out_name) )\n",
    "\n",
    "    # Create an output path, we join two folder names together without using slash or back-slash -> avoiding operating system differences\n",
    "    outpath = os.path.join(result_folder, out_name)\n",
    "\n",
    "    # Export the data\n",
    "    values.to_file(outpath)"
   ]
  },
  {
   "cell_type": "markdown",
   "metadata": {},
   "source": [
    "# Lesson2: Map projections\n",
    "\n",
    "- https://kodu.ut.ee/~kmoch/geopython2021/L2/crs-projections.html"
   ]
  },
  {
   "cell_type": "code",
   "execution_count": 31,
   "metadata": {},
   "outputs": [],
   "source": [
    "import geopandas as gpd\n",
    "\n",
    "# Filepath to the Europe borders Shapefile\n",
    "fp = \"Europe_borders.shp\"\n",
    "\n",
    "# Read data\n",
    "data = gpd.read_file(fp)"
   ]
  },
  {
   "cell_type": "code",
   "execution_count": 32,
   "metadata": {},
   "outputs": [
    {
     "data": {
      "text/plain": [
       "<Geographic 2D CRS: EPSG:4326>\n",
       "Name: WGS 84\n",
       "Axis Info [ellipsoidal]:\n",
       "- Lat[north]: Geodetic latitude (degree)\n",
       "- Lon[east]: Geodetic longitude (degree)\n",
       "Area of Use:\n",
       "- name: World.\n",
       "- bounds: (-180.0, -90.0, 180.0, 90.0)\n",
       "Datum: World Geodetic System 1984\n",
       "- Ellipsoid: WGS 84\n",
       "- Prime Meridian: Greenwich"
      ]
     },
     "execution_count": 32,
     "metadata": {},
     "output_type": "execute_result"
    }
   ],
   "source": [
    "data.crs"
   ]
  },
  {
   "cell_type": "code",
   "execution_count": 33,
   "metadata": {},
   "outputs": [
    {
     "data": {
      "text/plain": [
       "0    MULTIPOLYGON (((19.50115 40.96230, 19.50563 40...\n",
       "1    POLYGON ((1.43992 42.60649, 1.45041 42.60596, ...\n",
       "2    POLYGON ((16.00000 48.77775, 16.00000 48.78252...\n",
       "3    POLYGON ((5.00000 49.79374, 4.99724 49.79696, ...\n",
       "4    POLYGON ((19.22947 43.53458, 19.22925 43.53597...\n",
       "Name: geometry, dtype: geometry"
      ]
     },
     "execution_count": 33,
     "metadata": {},
     "output_type": "execute_result"
    }
   ],
   "source": [
    "data['geometry'].head()"
   ]
  },
  {
   "cell_type": "code",
   "execution_count": 34,
   "metadata": {},
   "outputs": [],
   "source": [
    "# Let's take a copy of our layer\n",
    "data_proj = data.copy()\n",
    "\n",
    "# Reproject the geometries by replacing the values with projected ones\n",
    "data_proj = data_proj.to_crs(epsg=3035)"
   ]
  },
  {
   "cell_type": "code",
   "execution_count": 35,
   "metadata": {},
   "outputs": [
    {
     "data": {
      "text/plain": [
       "0    MULTIPOLYGON (((5122010.375 2035145.186, 51223...\n",
       "1    POLYGON ((3618045.758 2206753.801, 3618896.570...\n",
       "2    POLYGON ((4761568.782 2869552.349, 4761526.557...\n",
       "3    POLYGON ((3961258.262 2976824.238, 3961083.984...\n",
       "4    POLYGON ((5066801.274 2315488.073, 5066765.564...\n",
       "Name: geometry, dtype: geometry"
      ]
     },
     "execution_count": 35,
     "metadata": {},
     "output_type": "execute_result"
    }
   ],
   "source": [
    "data_proj['geometry'].head()"
   ]
  },
  {
   "cell_type": "code",
   "execution_count": 36,
   "metadata": {},
   "outputs": [
    {
     "data": {
      "image/png": "[encoded data removed]",
      "text/plain": [
       "<Figure size 432x288 with 1 Axes>"
      ]
     },
     "metadata": {
      "needs_background": "light"
     },
     "output_type": "display_data"
    },
    {
     "data": {
      "image/png": "[encoded data removed]",
      "text/plain": [
       "<Figure size 432x288 with 1 Axes>"
      ]
     },
     "metadata": {
      "needs_background": "light"
     },
     "output_type": "display_data"
    }
   ],
   "source": [
    "import matplotlib.pyplot as plt\n",
    "\n",
    "%matplotlib inline\n",
    "\n",
    "\n",
    "# Plot the WGS84\n",
    "data.plot(facecolor='gray');\n",
    "\n",
    "# Add title\n",
    "plt.title(\"WGS84 CRS\");\n",
    "\n",
    "# Remove empty white space around the plot\n",
    "plt.tight_layout()\n",
    "\n",
    "# Plot the one with ETRS-LAEA projection\n",
    "data_proj.plot(facecolor='blue');\n",
    "\n",
    "# Add title\n",
    "plt.title(\"ETRS Lambert Azimuthal Equal Area projection\");\n",
    "\n",
    "# Remove empty white space around the plot\n",
    "plt.tight_layout()"
   ]
  },
  {
   "cell_type": "code",
   "execution_count": 37,
   "metadata": {},
   "outputs": [],
   "source": [
    "# Ouput file path\n",
    "out_fp = \"Europe_borders_epsg3035.shp\"\n",
    "\n",
    "# Save to disk\n",
    "data_proj.to_file(out_fp)"
   ]
  },
  {
   "cell_type": "code",
   "execution_count": 38,
   "metadata": {},
   "outputs": [],
   "source": [
    "tartu_lon = 26.7290\n",
    "\n",
    "tartu_lat = 58.3780"
   ]
  },
  {
   "cell_type": "code",
   "execution_count": 39,
   "metadata": {},
   "outputs": [],
   "source": [
    "proj4_txt = '+proj=aeqd +lat_0={} +lon_0={} +x_0=0 +y_0=0 +ellps=WGS84 +datum=WGS84 +units=m +no_defs'.format(tartu_lat, tartu_lon)"
   ]
  },
  {
   "cell_type": "code",
   "execution_count": 40,
   "metadata": {},
   "outputs": [
    {
     "data": {
      "text/plain": [
       "'+proj=aeqd +lat_0=58.378 +lon_0=26.729 +x_0=0 +y_0=0 +ellps=WGS84 +datum=WGS84 +units=m +no_defs'"
      ]
     },
     "execution_count": 40,
     "metadata": {},
     "output_type": "execute_result"
    }
   ],
   "source": [
    "proj4_txt"
   ]
  },
  {
   "cell_type": "code",
   "execution_count": 41,
   "metadata": {},
   "outputs": [],
   "source": [
    "data_d = data.to_crs(proj4_txt)"
   ]
  },
  {
   "cell_type": "code",
   "execution_count": 42,
   "metadata": {},
   "outputs": [
    {
     "data": {
      "image/png": "[encoded data removed]",
      "text/plain": [
       "<Figure size 432x288 with 1 Axes>"
      ]
     },
     "metadata": {
      "needs_background": "light"
     },
     "output_type": "display_data"
    }
   ],
   "source": [
    "data_d.plot(facecolor='purple');\n",
    "\n",
    "plt.title(\"World Azimuthal Equidistant, centred on Tartu\");\n",
    "\n",
    "plt.tight_layout();"
   ]
  },
  {
   "cell_type": "code",
   "execution_count": 43,
   "metadata": {},
   "outputs": [],
   "source": [
    "from shapely.geometry import Point"
   ]
  },
  {
   "cell_type": "code",
   "execution_count": 44,
   "metadata": {},
   "outputs": [],
   "source": [
    "tartu = gpd.GeoSeries([Point(tartu_lon, tartu_lat)], crs=4326)"
   ]
  },
  {
   "cell_type": "code",
   "execution_count": 45,
   "metadata": {},
   "outputs": [],
   "source": [
    "tartu = tartu.to_crs(proj4_txt)"
   ]
  },
  {
   "cell_type": "code",
   "execution_count": 46,
   "metadata": {},
   "outputs": [
    {
     "name": "stdout",
     "output_type": "stream",
     "text": [
      "0    POINT (0.00000 0.00000)\n",
      "dtype: geometry\n"
     ]
    }
   ],
   "source": [
    "print(tartu)"
   ]
  },
  {
   "cell_type": "code",
   "execution_count": 47,
   "metadata": {},
   "outputs": [],
   "source": [
    "data_d['country_centroid'] = data_d.centroid"
   ]
  },
  {
   "cell_type": "code",
   "execution_count": 48,
   "metadata": {},
   "outputs": [
    {
     "data": {
      "text/html": [
       "<div>\n",
       "<style scoped>\n",
       "    .dataframe tbody tr th:only-of-type {\n",
       "        vertical-align: middle;\n",
       "    }\n",
       "\n",
       "    .dataframe tbody tr th {\n",
       "        vertical-align: top;\n",
       "    }\n",
       "\n",
       "    .dataframe thead th {\n",
       "        text-align: right;\n",
       "    }\n",
       "</style>\n",
       "<table border=\"1\" class=\"dataframe\">\n",
       "  <thead>\n",
       "    <tr style=\"text-align: right;\">\n",
       "      <th></th>\n",
       "      <th>NAME</th>\n",
       "      <th>ORGN_NAME</th>\n",
       "      <th>geometry</th>\n",
       "      <th>country_centroid</th>\n",
       "    </tr>\n",
       "  </thead>\n",
       "  <tbody>\n",
       "    <tr>\n",
       "      <th>0</th>\n",
       "      <td>Albania</td>\n",
       "      <td>Shqipëria</td>\n",
       "      <td>MULTIPOLYGON (((-616930.849 -1905901.378, -616...</td>\n",
       "      <td>POINT (-566125.440 -1891201.934)</td>\n",
       "    </tr>\n",
       "    <tr>\n",
       "      <th>1</th>\n",
       "      <td>Andorra</td>\n",
       "      <td>Andorra</td>\n",
       "      <td>POLYGON ((-2059909.806 -1383253.286, -2059109....</td>\n",
       "      <td>POINT (-2051296.405 -1393144.787)</td>\n",
       "    </tr>\n",
       "  </tbody>\n",
       "</table>\n",
       "</div>"
      ],
      "text/plain": [
       "      NAME  ORGN_NAME                                           geometry  \\\n",
       "0  Albania  Shqipëria  MULTIPOLYGON (((-616930.849 -1905901.378, -616...   \n",
       "1  Andorra    Andorra  POLYGON ((-2059909.806 -1383253.286, -2059109....   \n",
       "\n",
       "                    country_centroid  \n",
       "0   POINT (-566125.440 -1891201.934)  \n",
       "1  POINT (-2051296.405 -1393144.787)  "
      ]
     },
     "execution_count": 48,
     "metadata": {},
     "output_type": "execute_result"
    }
   ],
   "source": [
    "data_d.head(2)"
   ]
  },
  {
   "cell_type": "code",
   "execution_count": 49,
   "metadata": {},
   "outputs": [],
   "source": [
    "def calculateDistance(row, dest_geom, src_col='geometry'):\n",
    "    \"\"\"\n",
    "    Calculates the distance between a single Shapely Point geometry and a GeoDataFrame with Point geometries.\n",
    "\n",
    "    Parameters\n",
    "    ----------\n",
    "    dest_geom : shapely.Point\n",
    "        A single Shapely Point geometry to which the distances will be calculated to.\n",
    "    src_col : str\n",
    "        A name of the column that has the Shapely Point objects from where the distances will be calculated from.\n",
    "    target_col : str\n",
    "        A name of the target column where the result will be stored.\n",
    "    \"\"\"\n",
    "    # Calculate the distances\n",
    "    dist = row[src_col].distance(dest_geom)\n",
    "    # Tranform into kilometers\n",
    "    dist_km = dist/1000\n",
    "    # Assign the distance to the original data\n",
    "    return dist_km"
   ]
  },
  {
   "cell_type": "code",
   "execution_count": 50,
   "metadata": {},
   "outputs": [],
   "source": [
    "tartu_geom = tartu.get(0)"
   ]
  },
  {
   "cell_type": "code",
   "execution_count": 51,
   "metadata": {},
   "outputs": [
    {
     "name": "stdout",
     "output_type": "stream",
     "text": [
      "POINT (0 0)\n"
     ]
    }
   ],
   "source": [
    "print(tartu_geom)"
   ]
  },
  {
   "cell_type": "code",
   "execution_count": 52,
   "metadata": {},
   "outputs": [
    {
     "data": {
      "text/html": [
       "<div>\n",
       "<style scoped>\n",
       "    .dataframe tbody tr th:only-of-type {\n",
       "        vertical-align: middle;\n",
       "    }\n",
       "\n",
       "    .dataframe tbody tr th {\n",
       "        vertical-align: top;\n",
       "    }\n",
       "\n",
       "    .dataframe thead th {\n",
       "        text-align: right;\n",
       "    }\n",
       "</style>\n",
       "<table border=\"1\" class=\"dataframe\">\n",
       "  <thead>\n",
       "    <tr style=\"text-align: right;\">\n",
       "      <th></th>\n",
       "      <th>NAME</th>\n",
       "      <th>ORGN_NAME</th>\n",
       "      <th>geometry</th>\n",
       "      <th>country_centroid</th>\n",
       "      <th>new_dist</th>\n",
       "    </tr>\n",
       "  </thead>\n",
       "  <tbody>\n",
       "    <tr>\n",
       "      <th>0</th>\n",
       "      <td>Albania</td>\n",
       "      <td>Shqipëria</td>\n",
       "      <td>MULTIPOLYGON (((-616930.849 -1905901.378, -616...</td>\n",
       "      <td>POINT (-566125.440 -1891201.934)</td>\n",
       "      <td>1974.118225</td>\n",
       "    </tr>\n",
       "    <tr>\n",
       "      <th>1</th>\n",
       "      <td>Andorra</td>\n",
       "      <td>Andorra</td>\n",
       "      <td>POLYGON ((-2059909.806 -1383253.286, -2059109....</td>\n",
       "      <td>POINT (-2051296.405 -1393144.787)</td>\n",
       "      <td>2479.651052</td>\n",
       "    </tr>\n",
       "    <tr>\n",
       "      <th>2</th>\n",
       "      <td>Austria</td>\n",
       "      <td>Österreich</td>\n",
       "      <td>POLYGON ((-789218.354 -1007540.792, -789139.78...</td>\n",
       "      <td>POINT (-948755.523 -1114052.808)</td>\n",
       "      <td>1463.301302</td>\n",
       "    </tr>\n",
       "    <tr>\n",
       "      <th>3</th>\n",
       "      <td>Belgium</td>\n",
       "      <td>België / Belgique</td>\n",
       "      <td>POLYGON ((-1545487.015 -710685.915, -1545569.4...</td>\n",
       "      <td>POINT (-1539443.737 -612758.131)</td>\n",
       "      <td>1656.912655</td>\n",
       "    </tr>\n",
       "    <tr>\n",
       "      <th>4</th>\n",
       "      <td>Bosnia Herzegovina</td>\n",
       "      <td>Bosna i Hercegovina</td>\n",
       "      <td>POLYGON ((-611931.236 -1618946.307, -611934.02...</td>\n",
       "      <td>POINT (-720901.335 -1534770.531)</td>\n",
       "      <td>1695.647168</td>\n",
       "    </tr>\n",
       "    <tr>\n",
       "      <th>5</th>\n",
       "      <td>Croatia</td>\n",
       "      <td>Hrvatska</td>\n",
       "      <td>MULTIPOLYGON (((-993254.065 -1456331.349, -994...</td>\n",
       "      <td>POINT (-817203.750 -1426447.263)</td>\n",
       "      <td>1643.950658</td>\n",
       "    </tr>\n",
       "    <tr>\n",
       "      <th>6</th>\n",
       "      <td>Czech Republic</td>\n",
       "      <td>Cesko</td>\n",
       "      <td>POLYGON ((-836233.081 -763077.620, -835498.235...</td>\n",
       "      <td>POINT (-820305.756 -893458.815)</td>\n",
       "      <td>1212.918046</td>\n",
       "    </tr>\n",
       "    <tr>\n",
       "      <th>7</th>\n",
       "      <td>Denmark</td>\n",
       "      <td>Danmark</td>\n",
       "      <td>MULTIPOLYGON (((-937254.738 -280819.978, -9379...</td>\n",
       "      <td>POINT (-1031556.205 -139241.433)</td>\n",
       "      <td>1040.911322</td>\n",
       "    </tr>\n",
       "    <tr>\n",
       "      <th>8</th>\n",
       "      <td>Estonia</td>\n",
       "      <td>Eesti</td>\n",
       "      <td>MULTIPOLYGON (((-162360.830 -27988.570, -16287...</td>\n",
       "      <td>POINT (-68261.667 33616.470)</td>\n",
       "      <td>76.090225</td>\n",
       "    </tr>\n",
       "    <tr>\n",
       "      <th>9</th>\n",
       "      <td>Finland</td>\n",
       "      <td>Suomi</td>\n",
       "      <td>MULTIPOLYGON (((-257841.948 215108.641, -25828...</td>\n",
       "      <td>POINT (-27931.560 653427.451)</td>\n",
       "      <td>654.024163</td>\n",
       "    </tr>\n",
       "    <tr>\n",
       "      <th>10</th>\n",
       "      <td>France</td>\n",
       "      <td>France</td>\n",
       "      <td>MULTIPOLYGON (((-2173602.950 -842389.063, -217...</td>\n",
       "      <td>POINT (-1831378.471 -1000651.990)</td>\n",
       "      <td>2086.923935</td>\n",
       "    </tr>\n",
       "    <tr>\n",
       "      <th>11</th>\n",
       "      <td>Germany</td>\n",
       "      <td>Deutschland</td>\n",
       "      <td>MULTIPOLYGON (((-875698.584 -338558.972, -8751...</td>\n",
       "      <td>POINT (-1139442.791 -679758.159)</td>\n",
       "      <td>1326.801051</td>\n",
       "    </tr>\n",
       "    <tr>\n",
       "      <th>12</th>\n",
       "      <td>Gibraltar (UK)</td>\n",
       "      <td>Gibraltar (UK)</td>\n",
       "      <td>POLYGON ((-2872328.164 -1823613.920, -2871222....</td>\n",
       "      <td>POINT (-2872770.961 -1826002.350)</td>\n",
       "      <td>3403.982605</td>\n",
       "    </tr>\n",
       "    <tr>\n",
       "      <th>13</th>\n",
       "      <td>Greece</td>\n",
       "      <td>Elláda</td>\n",
       "      <td>MULTIPOLYGON (((-179277.557 -2308324.469, -179...</td>\n",
       "      <td>POINT (-328899.332 -2144633.146)</td>\n",
       "      <td>2169.706455</td>\n",
       "    </tr>\n",
       "    <tr>\n",
       "      <th>14</th>\n",
       "      <td>Hungary</td>\n",
       "      <td>Magyarország</td>\n",
       "      <td>POLYGON ((-327631.708 -1104374.898, -328196.45...</td>\n",
       "      <td>POINT (-558238.872 -1217994.425)</td>\n",
       "      <td>1339.828742</td>\n",
       "    </tr>\n",
       "    <tr>\n",
       "      <th>15</th>\n",
       "      <td>Ireland</td>\n",
       "      <td>Éire / Ireland</td>\n",
       "      <td>MULTIPOLYGON (((-2437224.463 -61584.487, -2437...</td>\n",
       "      <td>POINT (-2237106.677 7215.406)</td>\n",
       "      <td>2237.118313</td>\n",
       "    </tr>\n",
       "    <tr>\n",
       "      <th>16</th>\n",
       "      <td>Italy</td>\n",
       "      <td>Italia</td>\n",
       "      <td>MULTIPOLYGON (((-1274682.411 -2153336.082, -12...</td>\n",
       "      <td>POINT (-1195556.668 -1620794.614)</td>\n",
       "      <td>2014.033498</td>\n",
       "    </tr>\n",
       "    <tr>\n",
       "      <th>17</th>\n",
       "      <td>Latvia</td>\n",
       "      <td>Latvija</td>\n",
       "      <td>POLYGON ((-273271.541 -72773.912, -271581.262 ...</td>\n",
       "      <td>POINT (-109175.095 -167263.043)</td>\n",
       "      <td>199.740149</td>\n",
       "    </tr>\n",
       "    <tr>\n",
       "      <th>18</th>\n",
       "      <td>Liechtenstein</td>\n",
       "      <td>Liechtenstein</td>\n",
       "      <td>POLYGON ((-1296487.801 -1075491.781, -1295313....</td>\n",
       "      <td>POINT (-1298486.108 -1089777.446)</td>\n",
       "      <td>1695.193516</td>\n",
       "    </tr>\n",
       "    <tr>\n",
       "      <th>19</th>\n",
       "      <td>Lithuania</td>\n",
       "      <td>Lietuva</td>\n",
       "      <td>MULTIPOLYGON (((-32572.279 -376032.729, -32792...</td>\n",
       "      <td>POINT (-178650.961 -335302.276)</td>\n",
       "      <td>379.926022</td>\n",
       "    </tr>\n",
       "  </tbody>\n",
       "</table>\n",
       "</div>"
      ],
      "text/plain": [
       "                  NAME            ORGN_NAME  \\\n",
       "0              Albania            Shqipëria   \n",
       "1              Andorra              Andorra   \n",
       "2              Austria           Österreich   \n",
       "3              Belgium    België / Belgique   \n",
       "4   Bosnia Herzegovina  Bosna i Hercegovina   \n",
       "5              Croatia             Hrvatska   \n",
       "6       Czech Republic                Cesko   \n",
       "7              Denmark              Danmark   \n",
       "8              Estonia                Eesti   \n",
       "9              Finland                Suomi   \n",
       "10              France               France   \n",
       "11             Germany          Deutschland   \n",
       "12      Gibraltar (UK)       Gibraltar (UK)   \n",
       "13              Greece               Elláda   \n",
       "14             Hungary         Magyarország   \n",
       "15             Ireland       Éire / Ireland   \n",
       "16               Italy               Italia   \n",
       "17              Latvia              Latvija   \n",
       "18       Liechtenstein        Liechtenstein   \n",
       "19           Lithuania              Lietuva   \n",
       "\n",
       "                                             geometry  \\\n",
       "0   MULTIPOLYGON (((-616930.849 -1905901.378, -616...   \n",
       "1   POLYGON ((-2059909.806 -1383253.286, -2059109....   \n",
       "2   POLYGON ((-789218.354 -1007540.792, -789139.78...   \n",
       "3   POLYGON ((-1545487.015 -710685.915, -1545569.4...   \n",
       "4   POLYGON ((-611931.236 -1618946.307, -611934.02...   \n",
       "5   MULTIPOLYGON (((-993254.065 -1456331.349, -994...   \n",
       "6   POLYGON ((-836233.081 -763077.620, -835498.235...   \n",
       "7   MULTIPOLYGON (((-937254.738 -280819.978, -9379...   \n",
       "8   MULTIPOLYGON (((-162360.830 -27988.570, -16287...   \n",
       "9   MULTIPOLYGON (((-257841.948 215108.641, -25828...   \n",
       "10  MULTIPOLYGON (((-2173602.950 -842389.063, -217...   \n",
       "11  MULTIPOLYGON (((-875698.584 -338558.972, -8751...   \n",
       "12  POLYGON ((-2872328.164 -1823613.920, -2871222....   \n",
       "13  MULTIPOLYGON (((-179277.557 -2308324.469, -179...   \n",
       "14  POLYGON ((-327631.708 -1104374.898, -328196.45...   \n",
       "15  MULTIPOLYGON (((-2437224.463 -61584.487, -2437...   \n",
       "16  MULTIPOLYGON (((-1274682.411 -2153336.082, -12...   \n",
       "17  POLYGON ((-273271.541 -72773.912, -271581.262 ...   \n",
       "18  POLYGON ((-1296487.801 -1075491.781, -1295313....   \n",
       "19  MULTIPOLYGON (((-32572.279 -376032.729, -32792...   \n",
       "\n",
       "                     country_centroid     new_dist  \n",
       "0    POINT (-566125.440 -1891201.934)  1974.118225  \n",
       "1   POINT (-2051296.405 -1393144.787)  2479.651052  \n",
       "2    POINT (-948755.523 -1114052.808)  1463.301302  \n",
       "3    POINT (-1539443.737 -612758.131)  1656.912655  \n",
       "4    POINT (-720901.335 -1534770.531)  1695.647168  \n",
       "5    POINT (-817203.750 -1426447.263)  1643.950658  \n",
       "6     POINT (-820305.756 -893458.815)  1212.918046  \n",
       "7    POINT (-1031556.205 -139241.433)  1040.911322  \n",
       "8        POINT (-68261.667 33616.470)    76.090225  \n",
       "9       POINT (-27931.560 653427.451)   654.024163  \n",
       "10  POINT (-1831378.471 -1000651.990)  2086.923935  \n",
       "11   POINT (-1139442.791 -679758.159)  1326.801051  \n",
       "12  POINT (-2872770.961 -1826002.350)  3403.982605  \n",
       "13   POINT (-328899.332 -2144633.146)  2169.706455  \n",
       "14   POINT (-558238.872 -1217994.425)  1339.828742  \n",
       "15      POINT (-2237106.677 7215.406)  2237.118313  \n",
       "16  POINT (-1195556.668 -1620794.614)  2014.033498  \n",
       "17    POINT (-109175.095 -167263.043)   199.740149  \n",
       "18  POINT (-1298486.108 -1089777.446)  1695.193516  \n",
       "19    POINT (-178650.961 -335302.276)   379.926022  "
      ]
     },
     "execution_count": 52,
     "metadata": {},
     "output_type": "execute_result"
    }
   ],
   "source": [
    "data_d['new_dist'] = data_d.apply(calculateDistance, dest_geom=tartu_geom, src_col='country_centroid', axis=1)\n",
    "\n",
    "data_d.head(20)"
   ]
  },
  {
   "cell_type": "code",
   "execution_count": 53,
   "metadata": {},
   "outputs": [
    {
     "name": "stdout",
     "output_type": "stream",
     "text": [
      "Maximum distance to Tartu is 3403.98 km, and the mean distance is 1688.60 km.\n"
     ]
    }
   ],
   "source": [
    "max_dist = data_d['new_dist'].max()\n",
    "\n",
    "mean_dist = data_d['new_dist'].mean()\n",
    "\n",
    "print(\"Maximum distance to Tartu is {:.2f} km, and the mean distance is {:.2f} km.\".format(max_dist, mean_dist))\n"
   ]
  },
  {
   "cell_type": "code",
   "execution_count": 54,
   "metadata": {},
   "outputs": [
    {
     "data": {
      "text/html": [
       "<div>\n",
       "<style scoped>\n",
       "    .dataframe tbody tr th:only-of-type {\n",
       "        vertical-align: middle;\n",
       "    }\n",
       "\n",
       "    .dataframe tbody tr th {\n",
       "        vertical-align: top;\n",
       "    }\n",
       "\n",
       "    .dataframe thead th {\n",
       "        text-align: right;\n",
       "    }\n",
       "</style>\n",
       "<table border=\"1\" class=\"dataframe\">\n",
       "  <thead>\n",
       "    <tr style=\"text-align: right;\">\n",
       "      <th></th>\n",
       "      <th>NAME</th>\n",
       "      <th>ORGN_NAME</th>\n",
       "      <th>geometry</th>\n",
       "      <th>country_centroid</th>\n",
       "      <th>new_dist</th>\n",
       "    </tr>\n",
       "  </thead>\n",
       "  <tbody>\n",
       "    <tr>\n",
       "      <th>0</th>\n",
       "      <td>Albania</td>\n",
       "      <td>Shqipëria</td>\n",
       "      <td>MULTIPOLYGON (((5122010.375 2035145.186, 51223...</td>\n",
       "      <td>POINT (5167869.747 2060866.505)</td>\n",
       "      <td>1977.146064</td>\n",
       "    </tr>\n",
       "    <tr>\n",
       "      <th>1</th>\n",
       "      <td>Andorra</td>\n",
       "      <td>Andorra</td>\n",
       "      <td>POLYGON ((3618045.758 2206753.801, 3618896.570...</td>\n",
       "      <td>POINT (3628539.326 2199335.635)</td>\n",
       "      <td>2475.905474</td>\n",
       "    </tr>\n",
       "    <tr>\n",
       "      <th>2</th>\n",
       "      <td>Austria</td>\n",
       "      <td>Österreich</td>\n",
       "      <td>POLYGON ((4761568.782 2869552.349, 4761526.557...</td>\n",
       "      <td>POINT (4631147.196 2728937.248)</td>\n",
       "      <td>1462.510780</td>\n",
       "    </tr>\n",
       "    <tr>\n",
       "      <th>3</th>\n",
       "      <td>Belgium</td>\n",
       "      <td>België / Belgique</td>\n",
       "      <td>POLYGON ((3961258.262 2976824.238, 3961083.984...</td>\n",
       "      <td>POINT (3944209.479 3072545.081)</td>\n",
       "      <td>1654.788548</td>\n",
       "    </tr>\n",
       "    <tr>\n",
       "      <th>4</th>\n",
       "      <td>Bosnia Herzegovina</td>\n",
       "      <td>Bosna i Hercegovina</td>\n",
       "      <td>POLYGON ((5066801.274 2315488.073, 5066765.564...</td>\n",
       "      <td>POINT (4943523.525 2372738.415)</td>\n",
       "      <td>1697.369451</td>\n",
       "    </tr>\n",
       "    <tr>\n",
       "      <th>5</th>\n",
       "      <td>Croatia</td>\n",
       "      <td>Hrvatska</td>\n",
       "      <td>MULTIPOLYGON (((4663467.501 2386592.971, 46625...</td>\n",
       "      <td>POINT (4827100.144 2456127.096)</td>\n",
       "      <td>1644.799740</td>\n",
       "    </tr>\n",
       "    <tr>\n",
       "      <th>6</th>\n",
       "      <td>Czech Republic</td>\n",
       "      <td>Cesko</td>\n",
       "      <td>POLYGON ((4660362.002 3095920.075, 4661208.589...</td>\n",
       "      <td>POINT (4705636.380 2973034.221)</td>\n",
       "      <td>1211.845070</td>\n",
       "    </tr>\n",
       "    <tr>\n",
       "      <th>7</th>\n",
       "      <td>Denmark</td>\n",
       "      <td>Danmark</td>\n",
       "      <td>MULTIPOLYGON (((4449191.637 3539069.631, 44482...</td>\n",
       "      <td>POINT (4323598.894 3652905.447)</td>\n",
       "      <td>1039.734089</td>\n",
       "    </tr>\n",
       "    <tr>\n",
       "      <th>8</th>\n",
       "      <td>Estonia</td>\n",
       "      <td>Eesti</td>\n",
       "      <td>MULTIPOLYGON (((5140250.282 3968949.899, 51397...</td>\n",
       "      <td>POINT (5216503.622 4050864.887)</td>\n",
       "      <td>76.246525</td>\n",
       "    </tr>\n",
       "    <tr>\n",
       "      <th>9</th>\n",
       "      <td>Finland</td>\n",
       "      <td>Suomi</td>\n",
       "      <td>MULTIPOLYGON (((4988053.825 4182319.699, 49876...</td>\n",
       "      <td>POINT (5100295.670 4660209.133)</td>\n",
       "      <td>654.402264</td>\n",
       "    </tr>\n",
       "    <tr>\n",
       "      <th>10</th>\n",
       "      <td>France</td>\n",
       "      <td>France</td>\n",
       "      <td>MULTIPOLYGON (((3385453.765 2696814.963, 33833...</td>\n",
       "      <td>POINT (3752029.020 2629034.964)</td>\n",
       "      <td>2083.882484</td>\n",
       "    </tr>\n",
       "    <tr>\n",
       "      <th>11</th>\n",
       "      <td>Germany</td>\n",
       "      <td>Deutschland</td>\n",
       "      <td>MULTIPOLYGON (((4522697.741 3498029.491, 45232...</td>\n",
       "      <td>POINT (4347107.193 3104836.173)</td>\n",
       "      <td>1324.549319</td>\n",
       "    </tr>\n",
       "    <tr>\n",
       "      <th>12</th>\n",
       "      <td>Gibraltar (UK)</td>\n",
       "      <td>Gibraltar (UK)</td>\n",
       "      <td>POLYGON ((2936948.746 1593871.611, 2938119.524...</td>\n",
       "      <td>POINT (2937048.729 1591507.145)</td>\n",
       "      <td>3392.238476</td>\n",
       "    </tr>\n",
       "    <tr>\n",
       "      <th>13</th>\n",
       "      <td>Greece</td>\n",
       "      <td>Elláda</td>\n",
       "      <td>MULTIPOLYGON (((5623885.557 1739160.003, 56231...</td>\n",
       "      <td>POINT (5447214.000 1866815.261)</td>\n",
       "      <td>2172.994925</td>\n",
       "    </tr>\n",
       "    <tr>\n",
       "      <th>14</th>\n",
       "      <td>Hungary</td>\n",
       "      <td>Magyarország</td>\n",
       "      <td>POLYGON ((5229994.907 2881577.869, 5230332.287...</td>\n",
       "      <td>POINT (5032042.294 2718174.361)</td>\n",
       "      <td>1341.223933</td>\n",
       "    </tr>\n",
       "    <tr>\n",
       "      <th>15</th>\n",
       "      <td>Ireland</td>\n",
       "      <td>Éire / Ireland</td>\n",
       "      <td>MULTIPOLYGON (((2945309.787 3374282.529, 29449...</td>\n",
       "      <td>POINT (3121209.668 3491243.752)</td>\n",
       "      <td>2236.592760</td>\n",
       "    </tr>\n",
       "    <tr>\n",
       "      <th>16</th>\n",
       "      <td>Italy</td>\n",
       "      <td>Italia</td>\n",
       "      <td>MULTIPOLYGON (((4539072.579 1648175.126, 45386...</td>\n",
       "      <td>POINT (4502215.262 2181502.197)</td>\n",
       "      <td>2013.565391</td>\n",
       "    </tr>\n",
       "    <tr>\n",
       "      <th>17</th>\n",
       "      <td>Latvia</td>\n",
       "      <td>Latvija</td>\n",
       "      <td>POLYGON ((5043503.552 3899311.390, 5044908.876...</td>\n",
       "      <td>POINT (5225365.689 3845806.455)</td>\n",
       "      <td>199.449175</td>\n",
       "    </tr>\n",
       "    <tr>\n",
       "      <th>18</th>\n",
       "      <td>Liechtenstein</td>\n",
       "      <td>Liechtenstein</td>\n",
       "      <td>POLYGON ((4285857.551 2684549.355, 4287693.995...</td>\n",
       "      <td>POINT (4287146.872 2670269.267)</td>\n",
       "      <td>1693.452080</td>\n",
       "    </tr>\n",
       "    <tr>\n",
       "      <th>19</th>\n",
       "      <td>Lithuania</td>\n",
       "      <td>Lietuva</td>\n",
       "      <td>MULTIPOLYGON (((5349247.162 3660196.728, 53491...</td>\n",
       "      <td>POINT (5198019.201 3666009.464)</td>\n",
       "      <td>379.707070</td>\n",
       "    </tr>\n",
       "  </tbody>\n",
       "</table>\n",
       "</div>"
      ],
      "text/plain": [
       "                  NAME            ORGN_NAME  \\\n",
       "0              Albania            Shqipëria   \n",
       "1              Andorra              Andorra   \n",
       "2              Austria           Österreich   \n",
       "3              Belgium    België / Belgique   \n",
       "4   Bosnia Herzegovina  Bosna i Hercegovina   \n",
       "5              Croatia             Hrvatska   \n",
       "6       Czech Republic                Cesko   \n",
       "7              Denmark              Danmark   \n",
       "8              Estonia                Eesti   \n",
       "9              Finland                Suomi   \n",
       "10              France               France   \n",
       "11             Germany          Deutschland   \n",
       "12      Gibraltar (UK)       Gibraltar (UK)   \n",
       "13              Greece               Elláda   \n",
       "14             Hungary         Magyarország   \n",
       "15             Ireland       Éire / Ireland   \n",
       "16               Italy               Italia   \n",
       "17              Latvia              Latvija   \n",
       "18       Liechtenstein        Liechtenstein   \n",
       "19           Lithuania              Lietuva   \n",
       "\n",
       "                                             geometry  \\\n",
       "0   MULTIPOLYGON (((5122010.375 2035145.186, 51223...   \n",
       "1   POLYGON ((3618045.758 2206753.801, 3618896.570...   \n",
       "2   POLYGON ((4761568.782 2869552.349, 4761526.557...   \n",
       "3   POLYGON ((3961258.262 2976824.238, 3961083.984...   \n",
       "4   POLYGON ((5066801.274 2315488.073, 5066765.564...   \n",
       "5   MULTIPOLYGON (((4663467.501 2386592.971, 46625...   \n",
       "6   POLYGON ((4660362.002 3095920.075, 4661208.589...   \n",
       "7   MULTIPOLYGON (((4449191.637 3539069.631, 44482...   \n",
       "8   MULTIPOLYGON (((5140250.282 3968949.899, 51397...   \n",
       "9   MULTIPOLYGON (((4988053.825 4182319.699, 49876...   \n",
       "10  MULTIPOLYGON (((3385453.765 2696814.963, 33833...   \n",
       "11  MULTIPOLYGON (((4522697.741 3498029.491, 45232...   \n",
       "12  POLYGON ((2936948.746 1593871.611, 2938119.524...   \n",
       "13  MULTIPOLYGON (((5623885.557 1739160.003, 56231...   \n",
       "14  POLYGON ((5229994.907 2881577.869, 5230332.287...   \n",
       "15  MULTIPOLYGON (((2945309.787 3374282.529, 29449...   \n",
       "16  MULTIPOLYGON (((4539072.579 1648175.126, 45386...   \n",
       "17  POLYGON ((5043503.552 3899311.390, 5044908.876...   \n",
       "18  POLYGON ((4285857.551 2684549.355, 4287693.995...   \n",
       "19  MULTIPOLYGON (((5349247.162 3660196.728, 53491...   \n",
       "\n",
       "                   country_centroid     new_dist  \n",
       "0   POINT (5167869.747 2060866.505)  1977.146064  \n",
       "1   POINT (3628539.326 2199335.635)  2475.905474  \n",
       "2   POINT (4631147.196 2728937.248)  1462.510780  \n",
       "3   POINT (3944209.479 3072545.081)  1654.788548  \n",
       "4   POINT (4943523.525 2372738.415)  1697.369451  \n",
       "5   POINT (4827100.144 2456127.096)  1644.799740  \n",
       "6   POINT (4705636.380 2973034.221)  1211.845070  \n",
       "7   POINT (4323598.894 3652905.447)  1039.734089  \n",
       "8   POINT (5216503.622 4050864.887)    76.246525  \n",
       "9   POINT (5100295.670 4660209.133)   654.402264  \n",
       "10  POINT (3752029.020 2629034.964)  2083.882484  \n",
       "11  POINT (4347107.193 3104836.173)  1324.549319  \n",
       "12  POINT (2937048.729 1591507.145)  3392.238476  \n",
       "13  POINT (5447214.000 1866815.261)  2172.994925  \n",
       "14  POINT (5032042.294 2718174.361)  1341.223933  \n",
       "15  POINT (3121209.668 3491243.752)  2236.592760  \n",
       "16  POINT (4502215.262 2181502.197)  2013.565391  \n",
       "17  POINT (5225365.689 3845806.455)   199.449175  \n",
       "18  POINT (4287146.872 2670269.267)  1693.452080  \n",
       "19  POINT (5198019.201 3666009.464)   379.707070  "
      ]
     },
     "execution_count": 54,
     "metadata": {},
     "output_type": "execute_result"
    }
   ],
   "source": [
    "data = data.to_crs(3035)\n",
    "\n",
    "tartu = gpd.GeoSeries([Point(tartu_lon, tartu_lat)], crs=4326)\n",
    "tartu = tartu.to_crs(3035)\n",
    "tartu_geom = tartu.get(0)\n",
    "\n",
    "data['country_centroid'] = data.geometry.centroid\n",
    "\n",
    "data['new_dist'] = data.apply(calculateDistance, dest_geom=tartu_geom, src_col='country_centroid', axis=1)\n",
    "\n",
    "data.head(20)"
   ]
  },
  {
   "cell_type": "code",
   "execution_count": 55,
   "metadata": {},
   "outputs": [
    {
     "name": "stdout",
     "output_type": "stream",
     "text": [
      "Maximum distance to Tartu is 3392.24 km, and the mean distance is 1687.63 km.\n"
     ]
    }
   ],
   "source": [
    "max_dist = data['new_dist'].max()\n",
    "\n",
    "mean_dist = data['new_dist'].mean()\n",
    "\n",
    "print(\"Maximum distance to Tartu is {:.2f} km, and the mean distance is {:.2f} km.\".format(max_dist, mean_dist))\n"
   ]
  },
  {
   "cell_type": "code",
   "execution_count": 56,
   "metadata": {},
   "outputs": [
    {
     "name": "stdout",
     "output_type": "stream",
     "text": [
      "with accurate centering: Maximum distance to Tartu is 3403.98 km, and the mean distance is 1688.60 km.\n"
     ]
    }
   ],
   "source": [
    "print(\"with accurate centering: Maximum distance to Tartu is 3403.98 km, and the mean distance is 1688.60 km.\")"
   ]
  },
  {
   "cell_type": "code",
   "execution_count": null,
   "metadata": {},
   "outputs": [],
   "source": []
  }
 ],
 "metadata": {
  "kernelspec": {
   "display_name": "geopy2021a",
   "language": "python",
   "name": "geopy2021a"
  },
  "language_info": {
   "codemirror_mode": {
    "name": "ipython",
    "version": 3
   },
   "file_extension": ".py",
   "mimetype": "text/x-python",
   "name": "python",
   "nbconvert_exporter": "python",
   "pygments_lexer": "ipython3",
   "version": "3.8.12"
  }
 },
 "nbformat": 4,
 "nbformat_minor": 4
}
